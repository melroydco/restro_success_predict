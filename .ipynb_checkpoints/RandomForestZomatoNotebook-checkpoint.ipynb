{
 "cells": [
  {
   "cell_type": "code",
   "execution_count": 341,
   "id": "38eabb7c",
   "metadata": {},
   "outputs": [],
   "source": [
    "import pandas as pd\n",
    "import numpy as np\n",
    "from sklearn.model_selection import train_test_split\n",
    "from sklearn.metrics import confusion_matrix\n",
    "from sklearn.metrics import accuracy_score\n",
    "from sklearn.ensemble import RandomForestClassifier\n",
    "import seaborn as sns"
   ]
  },
  {
   "cell_type": "markdown",
   "id": "be3370a6",
   "metadata": {},
   "source": [
    "## Reading the File "
   ]
  },
  {
   "cell_type": "code",
   "execution_count": 408,
   "id": "0bb16b64",
   "metadata": {},
   "outputs": [
    {
     "data": {
      "text/html": [
       "<div>\n",
       "<style scoped>\n",
       "    .dataframe tbody tr th:only-of-type {\n",
       "        vertical-align: middle;\n",
       "    }\n",
       "\n",
       "    .dataframe tbody tr th {\n",
       "        vertical-align: top;\n",
       "    }\n",
       "\n",
       "    .dataframe thead th {\n",
       "        text-align: right;\n",
       "    }\n",
       "</style>\n",
       "<table border=\"1\" class=\"dataframe\">\n",
       "  <thead>\n",
       "    <tr style=\"text-align: right;\">\n",
       "      <th></th>\n",
       "      <th>url</th>\n",
       "      <th>address</th>\n",
       "      <th>name</th>\n",
       "      <th>online_order</th>\n",
       "      <th>book_table</th>\n",
       "      <th>rate</th>\n",
       "      <th>votes</th>\n",
       "      <th>phone</th>\n",
       "      <th>location</th>\n",
       "      <th>rest_type</th>\n",
       "      <th>dish_liked</th>\n",
       "      <th>cuisines</th>\n",
       "      <th>approx_cost(for two people)</th>\n",
       "      <th>reviews_list</th>\n",
       "      <th>menu_item</th>\n",
       "      <th>listed_in(type)</th>\n",
       "      <th>listed_in(city)</th>\n",
       "    </tr>\n",
       "  </thead>\n",
       "  <tbody>\n",
       "    <tr>\n",
       "      <th>0</th>\n",
       "      <td>https://www.zomato.com/bangalore/jalsa-banasha...</td>\n",
       "      <td>942, 21st Main Road, 2nd Stage, Banashankari, ...</td>\n",
       "      <td>Jalsa</td>\n",
       "      <td>Yes</td>\n",
       "      <td>Yes</td>\n",
       "      <td>4.1/5</td>\n",
       "      <td>775</td>\n",
       "      <td>080 42297555\\r\\n+91 9743772233</td>\n",
       "      <td>Banashankari</td>\n",
       "      <td>Casual Dining</td>\n",
       "      <td>Pasta, Lunch Buffet, Masala Papad, Paneer Laja...</td>\n",
       "      <td>North Indian, Mughlai, Chinese</td>\n",
       "      <td>800</td>\n",
       "      <td>[('Rated 4.0', 'RATED\\n  A beautiful place to ...</td>\n",
       "      <td>[]</td>\n",
       "      <td>Buffet</td>\n",
       "      <td>Banashankari</td>\n",
       "    </tr>\n",
       "    <tr>\n",
       "      <th>1</th>\n",
       "      <td>https://www.zomato.com/bangalore/spice-elephan...</td>\n",
       "      <td>2nd Floor, 80 Feet Road, Near Big Bazaar, 6th ...</td>\n",
       "      <td>Spice Elephant</td>\n",
       "      <td>Yes</td>\n",
       "      <td>No</td>\n",
       "      <td>4.1/5</td>\n",
       "      <td>787</td>\n",
       "      <td>080 41714161</td>\n",
       "      <td>Banashankari</td>\n",
       "      <td>Casual Dining</td>\n",
       "      <td>Momos, Lunch Buffet, Chocolate Nirvana, Thai G...</td>\n",
       "      <td>Chinese, North Indian, Thai</td>\n",
       "      <td>800</td>\n",
       "      <td>[('Rated 4.0', 'RATED\\n  Had been here for din...</td>\n",
       "      <td>[]</td>\n",
       "      <td>Buffet</td>\n",
       "      <td>Banashankari</td>\n",
       "    </tr>\n",
       "    <tr>\n",
       "      <th>2</th>\n",
       "      <td>https://www.zomato.com/SanchurroBangalore?cont...</td>\n",
       "      <td>1112, Next to KIMS Medical College, 17th Cross...</td>\n",
       "      <td>San Churro Cafe</td>\n",
       "      <td>Yes</td>\n",
       "      <td>No</td>\n",
       "      <td>3.8/5</td>\n",
       "      <td>918</td>\n",
       "      <td>+91 9663487993</td>\n",
       "      <td>Banashankari</td>\n",
       "      <td>Cafe, Casual Dining</td>\n",
       "      <td>Churros, Cannelloni, Minestrone Soup, Hot Choc...</td>\n",
       "      <td>Cafe, Mexican, Italian</td>\n",
       "      <td>800</td>\n",
       "      <td>[('Rated 3.0', \"RATED\\n  Ambience is not that ...</td>\n",
       "      <td>[]</td>\n",
       "      <td>Buffet</td>\n",
       "      <td>Banashankari</td>\n",
       "    </tr>\n",
       "    <tr>\n",
       "      <th>3</th>\n",
       "      <td>https://www.zomato.com/bangalore/addhuri-udupi...</td>\n",
       "      <td>1st Floor, Annakuteera, 3rd Stage, Banashankar...</td>\n",
       "      <td>Addhuri Udupi Bhojana</td>\n",
       "      <td>No</td>\n",
       "      <td>No</td>\n",
       "      <td>3.7/5</td>\n",
       "      <td>88</td>\n",
       "      <td>+91 9620009302</td>\n",
       "      <td>Banashankari</td>\n",
       "      <td>Quick Bites</td>\n",
       "      <td>Masala Dosa</td>\n",
       "      <td>South Indian, North Indian</td>\n",
       "      <td>300</td>\n",
       "      <td>[('Rated 4.0', \"RATED\\n  Great food and proper...</td>\n",
       "      <td>[]</td>\n",
       "      <td>Buffet</td>\n",
       "      <td>Banashankari</td>\n",
       "    </tr>\n",
       "    <tr>\n",
       "      <th>4</th>\n",
       "      <td>https://www.zomato.com/bangalore/grand-village...</td>\n",
       "      <td>10, 3rd Floor, Lakshmi Associates, Gandhi Baza...</td>\n",
       "      <td>Grand Village</td>\n",
       "      <td>No</td>\n",
       "      <td>No</td>\n",
       "      <td>3.8/5</td>\n",
       "      <td>166</td>\n",
       "      <td>+91 8026612447\\r\\n+91 9901210005</td>\n",
       "      <td>Basavanagudi</td>\n",
       "      <td>Casual Dining</td>\n",
       "      <td>Panipuri, Gol Gappe</td>\n",
       "      <td>North Indian, Rajasthani</td>\n",
       "      <td>600</td>\n",
       "      <td>[('Rated 4.0', 'RATED\\n  Very good restaurant ...</td>\n",
       "      <td>[]</td>\n",
       "      <td>Buffet</td>\n",
       "      <td>Banashankari</td>\n",
       "    </tr>\n",
       "  </tbody>\n",
       "</table>\n",
       "</div>"
      ],
      "text/plain": [
       "                                                 url  \\\n",
       "0  https://www.zomato.com/bangalore/jalsa-banasha...   \n",
       "1  https://www.zomato.com/bangalore/spice-elephan...   \n",
       "2  https://www.zomato.com/SanchurroBangalore?cont...   \n",
       "3  https://www.zomato.com/bangalore/addhuri-udupi...   \n",
       "4  https://www.zomato.com/bangalore/grand-village...   \n",
       "\n",
       "                                             address                   name  \\\n",
       "0  942, 21st Main Road, 2nd Stage, Banashankari, ...                  Jalsa   \n",
       "1  2nd Floor, 80 Feet Road, Near Big Bazaar, 6th ...         Spice Elephant   \n",
       "2  1112, Next to KIMS Medical College, 17th Cross...        San Churro Cafe   \n",
       "3  1st Floor, Annakuteera, 3rd Stage, Banashankar...  Addhuri Udupi Bhojana   \n",
       "4  10, 3rd Floor, Lakshmi Associates, Gandhi Baza...          Grand Village   \n",
       "\n",
       "  online_order book_table   rate  votes                             phone  \\\n",
       "0          Yes        Yes  4.1/5    775    080 42297555\\r\\n+91 9743772233   \n",
       "1          Yes         No  4.1/5    787                      080 41714161   \n",
       "2          Yes         No  3.8/5    918                    +91 9663487993   \n",
       "3           No         No  3.7/5     88                    +91 9620009302   \n",
       "4           No         No  3.8/5    166  +91 8026612447\\r\\n+91 9901210005   \n",
       "\n",
       "       location            rest_type  \\\n",
       "0  Banashankari        Casual Dining   \n",
       "1  Banashankari        Casual Dining   \n",
       "2  Banashankari  Cafe, Casual Dining   \n",
       "3  Banashankari          Quick Bites   \n",
       "4  Basavanagudi        Casual Dining   \n",
       "\n",
       "                                          dish_liked  \\\n",
       "0  Pasta, Lunch Buffet, Masala Papad, Paneer Laja...   \n",
       "1  Momos, Lunch Buffet, Chocolate Nirvana, Thai G...   \n",
       "2  Churros, Cannelloni, Minestrone Soup, Hot Choc...   \n",
       "3                                        Masala Dosa   \n",
       "4                                Panipuri, Gol Gappe   \n",
       "\n",
       "                         cuisines approx_cost(for two people)  \\\n",
       "0  North Indian, Mughlai, Chinese                         800   \n",
       "1     Chinese, North Indian, Thai                         800   \n",
       "2          Cafe, Mexican, Italian                         800   \n",
       "3      South Indian, North Indian                         300   \n",
       "4        North Indian, Rajasthani                         600   \n",
       "\n",
       "                                        reviews_list menu_item  \\\n",
       "0  [('Rated 4.0', 'RATED\\n  A beautiful place to ...        []   \n",
       "1  [('Rated 4.0', 'RATED\\n  Had been here for din...        []   \n",
       "2  [('Rated 3.0', \"RATED\\n  Ambience is not that ...        []   \n",
       "3  [('Rated 4.0', \"RATED\\n  Great food and proper...        []   \n",
       "4  [('Rated 4.0', 'RATED\\n  Very good restaurant ...        []   \n",
       "\n",
       "  listed_in(type) listed_in(city)  \n",
       "0          Buffet    Banashankari  \n",
       "1          Buffet    Banashankari  \n",
       "2          Buffet    Banashankari  \n",
       "3          Buffet    Banashankari  \n",
       "4          Buffet    Banashankari  "
      ]
     },
     "execution_count": 408,
     "metadata": {},
     "output_type": "execute_result"
    }
   ],
   "source": [
    "df = pd.read_csv(r'E:\\Downloads\\ML_Restaurants_Success_Predictor-main\\ML_Restaurants_Success_Predictor-main\\zomato.csv')\n",
    "df.head(5)"
   ]
  },
  {
   "cell_type": "markdown",
   "id": "4510da3f",
   "metadata": {},
   "source": [
    "## Dropping Duplicates"
   ]
  },
  {
   "cell_type": "code",
   "execution_count": 343,
   "id": "8ba352dd",
   "metadata": {},
   "outputs": [
    {
     "data": {
      "text/plain": [
       "(51717, 17)"
      ]
     },
     "execution_count": 343,
     "metadata": {},
     "output_type": "execute_result"
    }
   ],
   "source": [
    "df.drop_duplicates(inplace=True)\n",
    "df.shape"
   ]
  },
  {
   "cell_type": "markdown",
   "id": "bdaa6991",
   "metadata": {},
   "source": [
    "### Preparing Approx Cost Numerical Feature"
   ]
  },
  {
   "cell_type": "code",
   "execution_count": 344,
   "id": "5f050315",
   "metadata": {},
   "outputs": [
    {
     "data": {
      "text/plain": [
       "array(['800', '300', '600', '700', '550', '500', '450', '650', '400',\n",
       "       '900', '200', '750', '150', '850', '100', '1,200', '350', '250',\n",
       "       '950', '1,000', '1,500', '1,300', '199', '80', '1,100', '160',\n",
       "       '1,600', '230', '130', '50', '190', '1,700', nan, '1,400', '180',\n",
       "       '1,350', '2,200', '2,000', '1,800', '1,900', '330', '2,500',\n",
       "       '2,100', '3,000', '2,800', '3,400', '40', '1,250', '3,500',\n",
       "       '4,000', '2,400', '2,600', '120', '1,450', '469', '70', '3,200',\n",
       "       '60', '560', '240', '360', '6,000', '1,050', '2,300', '4,100',\n",
       "       '5,000', '3,700', '1,650', '2,700', '4,500', '140'], dtype=object)"
      ]
     },
     "execution_count": 344,
     "metadata": {},
     "output_type": "execute_result"
    }
   ],
   "source": [
    "# before transformation\n",
    "df['approx_cost(for two people)'].unique()"
   ]
  },
  {
   "cell_type": "code",
   "execution_count": 345,
   "id": "fe31b2b4",
   "metadata": {},
   "outputs": [],
   "source": [
    "df['approx_cost(for two people)'] = df['approx_cost(for two people)'].astype(str).apply(lambda x: x.replace(',', ''))"
   ]
  },
  {
   "cell_type": "code",
   "execution_count": 346,
   "id": "4e9d5136",
   "metadata": {},
   "outputs": [],
   "source": [
    "df['approx_cost(for two people)'] = df['approx_cost(for two people)'].astype(float)"
   ]
  },
  {
   "cell_type": "code",
   "execution_count": 347,
   "id": "0a05ac27",
   "metadata": {},
   "outputs": [
    {
     "data": {
      "text/plain": [
       "array([ 800.,  300.,  600.,  700.,  550.,  500.,  450.,  650.,  400.,\n",
       "        900.,  200.,  750.,  150.,  850.,  100., 1200.,  350.,  250.,\n",
       "        950., 1000., 1500., 1300.,  199.,   80., 1100.,  160., 1600.,\n",
       "        230.,  130.,   50.,  190., 1700.,   nan, 1400.,  180., 1350.,\n",
       "       2200., 2000., 1800., 1900.,  330., 2500., 2100., 3000., 2800.,\n",
       "       3400.,   40., 1250., 3500., 4000., 2400., 2600.,  120., 1450.,\n",
       "        469.,   70., 3200.,   60.,  560.,  240.,  360., 6000., 1050.,\n",
       "       2300., 4100., 5000., 3700., 1650., 2700., 4500.,  140.])"
      ]
     },
     "execution_count": 347,
     "metadata": {},
     "output_type": "execute_result"
    }
   ],
   "source": [
    "df['approx_cost(for two people)'].unique()"
   ]
  },
  {
   "cell_type": "markdown",
   "id": "21fa0d1f",
   "metadata": {},
   "source": [
    "### Preparing Rate Numerical Feature"
   ]
  },
  {
   "cell_type": "code",
   "execution_count": 348,
   "id": "4cb8113b",
   "metadata": {},
   "outputs": [
    {
     "data": {
      "text/plain": [
       "array(['4.1/5', '3.8/5', '3.7/5', '3.6/5', '4.6/5', '4.0/5', '4.2/5',\n",
       "       '3.9/5', '3.1/5', '3.0/5', '3.2/5', '3.3/5', '2.8/5', '4.4/5',\n",
       "       '4.3/5', 'NEW', '2.9/5', '3.5/5', nan, '2.6/5', '3.8 /5', '3.4/5',\n",
       "       '4.5/5', '2.5/5', '2.7/5', '4.7/5', '2.4/5', '2.2/5', '2.3/5',\n",
       "       '3.4 /5', '-', '3.6 /5', '4.8/5', '3.9 /5', '4.2 /5', '4.0 /5',\n",
       "       '4.1 /5', '3.7 /5', '3.1 /5', '2.9 /5', '3.3 /5', '2.8 /5',\n",
       "       '3.5 /5', '2.7 /5', '2.5 /5', '3.2 /5', '2.6 /5', '4.5 /5',\n",
       "       '4.3 /5', '4.4 /5', '4.9/5', '2.1/5', '2.0/5', '1.8/5', '4.6 /5',\n",
       "       '4.9 /5', '3.0 /5', '4.8 /5', '2.3 /5', '4.7 /5', '2.4 /5',\n",
       "       '2.1 /5', '2.2 /5', '2.0 /5', '1.8 /5'], dtype=object)"
      ]
     },
     "execution_count": 348,
     "metadata": {},
     "output_type": "execute_result"
    }
   ],
   "source": [
    "# before tranformation\n",
    "df['rate'].unique()"
   ]
  },
  {
   "cell_type": "code",
   "execution_count": 349,
   "id": "a33f3964",
   "metadata": {},
   "outputs": [],
   "source": [
    "def split(x):\n",
    "    return x.split('/')[0]"
   ]
  },
  {
   "cell_type": "code",
   "execution_count": 350,
   "id": "26456de9",
   "metadata": {},
   "outputs": [],
   "source": [
    "df['rate']=df['rate'].astype(str).apply(split)"
   ]
  },
  {
   "cell_type": "code",
   "execution_count": 351,
   "id": "9ede3249",
   "metadata": {},
   "outputs": [],
   "source": [
    "df['rate'].replace('NEW',0,inplace=True)\n",
    "df['rate'].replace('-',0,inplace=True)"
   ]
  },
  {
   "cell_type": "code",
   "execution_count": 352,
   "id": "9d2d4d27",
   "metadata": {},
   "outputs": [],
   "source": [
    "df['rate']=df['rate'].astype(str).astype(float)"
   ]
  },
  {
   "cell_type": "code",
   "execution_count": 353,
   "id": "0f1c8490",
   "metadata": {},
   "outputs": [
    {
     "data": {
      "text/plain": [
       "array([4.1, 3.8, 3.7, 3.6, 4.6, 4. , 4.2, 3.9, 3.1, 3. , 3.2, 3.3, 2.8,\n",
       "       4.4, 4.3, 0. , 2.9, 3.5, nan, 2.6, 3.4, 4.5, 2.5, 2.7, 4.7, 2.4,\n",
       "       2.2, 2.3, 4.8, 4.9, 2.1, 2. , 1.8])"
      ]
     },
     "execution_count": 353,
     "metadata": {},
     "output_type": "execute_result"
    }
   ],
   "source": [
    "df['rate'].unique()"
   ]
  },
  {
   "cell_type": "code",
   "execution_count": 354,
   "id": "69b13683",
   "metadata": {},
   "outputs": [
    {
     "data": {
      "text/plain": [
       "7775"
      ]
     },
     "execution_count": 354,
     "metadata": {},
     "output_type": "execute_result"
    }
   ],
   "source": [
    "df['rate'].isnull().sum()"
   ]
  },
  {
   "cell_type": "code",
   "execution_count": 355,
   "id": "efc93670",
   "metadata": {},
   "outputs": [],
   "source": [
    "# few more tranformations\n",
    "def mark(x):\n",
    "    if x in ('Quick Bites', 'Casual Dining'):\n",
    "        return 'Quick Bites + Casual Dining'\n",
    "    else:\n",
    "        return 'other'"
   ]
  },
  {
   "cell_type": "code",
   "execution_count": 356,
   "id": "06e0e4bb",
   "metadata": {},
   "outputs": [],
   "source": [
    "df['Top_types']=df['rest_type'].apply(mark)"
   ]
  },
  {
   "cell_type": "markdown",
   "id": "d48f93f7",
   "metadata": {},
   "source": [
    "### Creating New Restaurants and Training data"
   ]
  },
  {
   "cell_type": "code",
   "execution_count": 357,
   "id": "74814814",
   "metadata": {},
   "outputs": [],
   "source": [
    "def assign(x):\n",
    "    if x>0:\n",
    "        return 1\n",
    "    else:\n",
    "        return 0\n",
    "df['rated']=df['rate'].apply(assign)"
   ]
  },
  {
   "cell_type": "code",
   "execution_count": 358,
   "id": "8bd8f0a2",
   "metadata": {},
   "outputs": [
    {
     "data": {
      "text/plain": [
       "array([1, 0], dtype=int64)"
      ]
     },
     "execution_count": 358,
     "metadata": {},
     "output_type": "execute_result"
    }
   ],
   "source": [
    "df['rated'].unique() # here 0 is new rest and 1 is for training rest"
   ]
  },
  {
   "cell_type": "code",
   "execution_count": 359,
   "id": "82cf6bf7",
   "metadata": {},
   "outputs": [],
   "source": [
    "# separating new and training data\n",
    "new_restaurants = df[df['rated'] == 0]\n",
    "train_val_restaurants = df.query('rated == 1')"
   ]
  },
  {
   "cell_type": "markdown",
   "id": "fd85616a",
   "metadata": {},
   "source": [
    "### Threshold for dividing Good and Bad Rest"
   ]
  },
  {
   "cell_type": "code",
   "execution_count": 360,
   "id": "e4c43870",
   "metadata": {},
   "outputs": [
    {
     "name": "stderr",
     "output_type": "stream",
     "text": [
      "C:\\Users\\melro\\AppData\\Local\\Temp\\ipykernel_26512\\1460972383.py:2: SettingWithCopyWarning: \n",
      "A value is trying to be set on a copy of a slice from a DataFrame.\n",
      "Try using .loc[row_indexer,col_indexer] = value instead\n",
      "\n",
      "See the caveats in the documentation: https://pandas.pydata.org/pandas-docs/stable/user_guide/indexing.html#returning-a-view-versus-a-copy\n",
      "  train_val_restaurants['target'] = train_val_restaurants['rate'].apply(lambda x: 1 if x >= threshold else 0)\n"
     ]
    }
   ],
   "source": [
    "threshold = 3.75 #any restaurant with rating greater than 3.75 would have target value as 1\n",
    "train_val_restaurants['target'] = train_val_restaurants['rate'].apply(lambda x: 1 if x >= threshold else 0)"
   ]
  },
  {
   "cell_type": "markdown",
   "id": "65eafafc",
   "metadata": {},
   "source": [
    "### Feature Extraction"
   ]
  },
  {
   "cell_type": "code",
   "execution_count": 361,
   "id": "ccaa40ea",
   "metadata": {},
   "outputs": [
    {
     "data": {
      "text/plain": [
       "Index(['url', 'address', 'name', 'online_order', 'book_table', 'rate', 'votes',\n",
       "       'phone', 'location', 'rest_type', 'dish_liked', 'cuisines',\n",
       "       'approx_cost(for two people)', 'reviews_list', 'menu_item',\n",
       "       'listed_in(type)', 'listed_in(city)', 'Top_types', 'rated', 'target'],\n",
       "      dtype='object')"
      ]
     },
     "execution_count": 361,
     "metadata": {},
     "output_type": "execute_result"
    }
   ],
   "source": [
    "train_val_restaurants.columns"
   ]
  },
  {
   "cell_type": "code",
   "execution_count": 362,
   "id": "2b5106da",
   "metadata": {},
   "outputs": [],
   "source": [
    "def count(x):\n",
    "    return len(x.split(','))"
   ]
  },
  {
   "cell_type": "code",
   "execution_count": 363,
   "id": "9a7f56d8",
   "metadata": {},
   "outputs": [
    {
     "name": "stderr",
     "output_type": "stream",
     "text": [
      "C:\\Users\\melro\\AppData\\Local\\Temp\\ipykernel_26512\\867460467.py:2: SettingWithCopyWarning: \n",
      "A value is trying to be set on a copy of a slice from a DataFrame.\n",
      "Try using .loc[row_indexer,col_indexer] = value instead\n",
      "\n",
      "See the caveats in the documentation: https://pandas.pydata.org/pandas-docs/stable/user_guide/indexing.html#returning-a-view-versus-a-copy\n",
      "  train_val_restaurants['total_cuisines']=train_val_restaurants['cuisines'].astype(str).apply(count)\n",
      "C:\\Users\\melro\\AppData\\Local\\Temp\\ipykernel_26512\\867460467.py:3: SettingWithCopyWarning: \n",
      "A value is trying to be set on a copy of a slice from a DataFrame.\n",
      "Try using .loc[row_indexer,col_indexer] = value instead\n",
      "\n",
      "See the caveats in the documentation: https://pandas.pydata.org/pandas-docs/stable/user_guide/indexing.html#returning-a-view-versus-a-copy\n",
      "  train_val_restaurants['multiple_types']=train_val_restaurants['rest_type'].astype(str).apply(count)\n"
     ]
    }
   ],
   "source": [
    "#### as it have some NAN value that why very first I have to convert into str  &  then apply a function\n",
    "train_val_restaurants['total_cuisines']=train_val_restaurants['cuisines'].astype(str).apply(count)\n",
    "train_val_restaurants['multiple_types']=train_val_restaurants['rest_type'].astype(str).apply(count)"
   ]
  },
  {
   "cell_type": "code",
   "execution_count": 364,
   "id": "8d181a16",
   "metadata": {},
   "outputs": [
    {
     "data": {
      "text/plain": [
       "Index(['url', 'address', 'name', 'online_order', 'book_table', 'rate', 'votes',\n",
       "       'phone', 'location', 'rest_type', 'dish_liked', 'cuisines',\n",
       "       'approx_cost(for two people)', 'reviews_list', 'menu_item',\n",
       "       'listed_in(type)', 'listed_in(city)', 'Top_types', 'rated', 'target',\n",
       "       'total_cuisines', 'multiple_types'],\n",
       "      dtype='object')"
      ]
     },
     "execution_count": 364,
     "metadata": {},
     "output_type": "execute_result"
    }
   ],
   "source": [
    "train_val_restaurants.columns"
   ]
  },
  {
   "cell_type": "code",
   "execution_count": 365,
   "id": "6f26a785",
   "metadata": {},
   "outputs": [],
   "source": [
    "# some important features we would be intrested in\n",
    "imp_features=['online_order','book_table','location','rest_type','multiple_types','total_cuisines','listed_in(type)','approx_cost(for two people)','target']"
   ]
  },
  {
   "cell_type": "code",
   "execution_count": 366,
   "id": "e53d4ad3",
   "metadata": {},
   "outputs": [],
   "source": [
    "data = train_val_restaurants[imp_features]"
   ]
  },
  {
   "cell_type": "code",
   "execution_count": 367,
   "id": "7fa91232",
   "metadata": {},
   "outputs": [
    {
     "data": {
      "text/plain": [
       "online_order                     0\n",
       "book_table                       0\n",
       "location                         0\n",
       "rest_type                      149\n",
       "multiple_types                   0\n",
       "total_cuisines                   0\n",
       "listed_in(type)                  0\n",
       "approx_cost(for two people)    247\n",
       "target                           0\n",
       "dtype: int64"
      ]
     },
     "execution_count": 367,
     "metadata": {},
     "output_type": "execute_result"
    }
   ],
   "source": [
    "data.isnull().sum() # as Null data is less than 1-2% we can drop it "
   ]
  },
  {
   "cell_type": "code",
   "execution_count": 368,
   "id": "de3560ac",
   "metadata": {},
   "outputs": [
    {
     "name": "stderr",
     "output_type": "stream",
     "text": [
      "C:\\Users\\melro\\AppData\\Local\\Temp\\ipykernel_26512\\3923625894.py:1: SettingWithCopyWarning: \n",
      "A value is trying to be set on a copy of a slice from a DataFrame\n",
      "\n",
      "See the caveats in the documentation: https://pandas.pydata.org/pandas-docs/stable/user_guide/indexing.html#returning-a-view-versus-a-copy\n",
      "  data.dropna(how='any',inplace=True)\n"
     ]
    }
   ],
   "source": [
    "data.dropna(how='any',inplace=True)"
   ]
  },
  {
   "cell_type": "markdown",
   "id": "a04dc7b0",
   "metadata": {},
   "source": [
    "### Splitting data into Categorical and Numerical based upon type of data"
   ]
  },
  {
   "cell_type": "code",
   "execution_count": 369,
   "id": "8d232a43",
   "metadata": {},
   "outputs": [],
   "source": [
    "# Splitting features by data type, any data which is object is a categorical data\n",
    "cat_features= [col for col in data.columns if data[col].dtype == 'O']\n",
    "num_features= [col for col in data.columns if data[col].dtype != 'O']"
   ]
  },
  {
   "cell_type": "code",
   "execution_count": 370,
   "id": "955f5b0f",
   "metadata": {},
   "outputs": [
    {
     "data": {
      "text/plain": [
       "['online_order', 'book_table', 'location', 'rest_type', 'listed_in(type)']"
      ]
     },
     "execution_count": 370,
     "metadata": {},
     "output_type": "execute_result"
    }
   ],
   "source": [
    "cat_features"
   ]
  },
  {
   "cell_type": "code",
   "execution_count": 371,
   "id": "60e2e646",
   "metadata": {},
   "outputs": [
    {
     "name": "stdout",
     "output_type": "stream",
     "text": [
      "online_order has total 2 unique features\n",
      "book_table has total 2 unique features\n",
      "location has total 92 unique features\n",
      "rest_type has total 87 unique features\n",
      "listed_in(type) has total 7 unique features\n"
     ]
    }
   ],
   "source": [
    "# unique features in categorical data\n",
    "for feature in cat_features:\n",
    "    print('{} has total {} unique features'.format(feature, data[feature].nunique()))"
   ]
  },
  {
   "cell_type": "code",
   "execution_count": 372,
   "id": "6ce5f94a",
   "metadata": {},
   "outputs": [
    {
     "name": "stdout",
     "output_type": "stream",
     "text": [
      "Total feature in location are 92\n",
      "BTM                      9.398851\n",
      "Koramangala 5th Block    5.565651\n",
      "HSR                      4.829057\n",
      "Indiranagar              4.361416\n",
      "JP Nagar                 4.143345\n",
      "                           ...   \n",
      "Yelahanka                0.009692\n",
      "West Bangalore           0.007269\n",
      "Rajarajeshwari Nagar     0.004846\n",
      "Nagarbhavi               0.002423\n",
      "Peenya                   0.002423\n",
      "Name: location, Length: 92, dtype: float64\n",
      "\n",
      "\n",
      "Total feature in rest_type are 87\n",
      "Quick Bites                   33.643478\n",
      "Casual Dining                 23.299654\n",
      "Cafe                           8.163117\n",
      "Dessert Parlor                 4.482566\n",
      "Delivery                       4.048848\n",
      "                                ...    \n",
      "Food Court, Beverage Shop      0.004846\n",
      "Dessert Parlor, Food Court     0.004846\n",
      "Dessert Parlor, Kiosk          0.004846\n",
      "Bakery, Beverage Shop          0.002423\n",
      "Quick Bites, Kiosk             0.002423\n",
      "Name: rest_type, Length: 87, dtype: float64\n",
      "\n",
      "\n"
     ]
    }
   ],
   "source": [
    "#location and rest_type has too manu unique features, lets try to reduce them\n",
    "cols=['location','rest_type']\n",
    "for col in cols:\n",
    "    print('Total feature in {} are {}'.format(col,data[col].nunique()))\n",
    "    print(data[col].value_counts()/(len(data))*100)\n",
    "    print('\\n')\n",
    "#we can see BTM is like 9% and Quickbites is like 33 percent, now we can define a threshold and put rest things as\n",
    "#Other category of data"
   ]
  },
  {
   "cell_type": "code",
   "execution_count": 373,
   "id": "04aa055d",
   "metadata": {},
   "outputs": [],
   "source": [
    "percent=data['location'].value_counts()/len(data)*100\n",
    "values=percent.values"
   ]
  },
  {
   "cell_type": "code",
   "execution_count": 374,
   "id": "7fd7fed4",
   "metadata": {},
   "outputs": [
    {
     "data": {
      "text/plain": [
       "46"
      ]
     },
     "execution_count": 374,
     "metadata": {},
     "output_type": "execute_result"
    }
   ],
   "source": [
    "len(values[values>0.4])"
   ]
  },
  {
   "cell_type": "code",
   "execution_count": 375,
   "id": "1b48b7d6",
   "metadata": {},
   "outputs": [
    {
     "data": {
      "text/plain": [
       "BTM                      9.398851\n",
       "Koramangala 5th Block    5.565651\n",
       "HSR                      4.829057\n",
       "Indiranagar              4.361416\n",
       "JP Nagar                 4.143345\n",
       "                           ...   \n",
       "Yelahanka                0.009692\n",
       "West Bangalore           0.007269\n",
       "Rajarajeshwari Nagar     0.004846\n",
       "Nagarbhavi               0.002423\n",
       "Peenya                   0.002423\n",
       "Name: location, Length: 92, dtype: float64"
      ]
     },
     "execution_count": 375,
     "metadata": {},
     "output_type": "execute_result"
    }
   ],
   "source": [
    "#### lets set Threshold value 0.4 \n",
    "values=data['location'].value_counts()/len(data)*100\n",
    "values"
   ]
  },
  {
   "cell_type": "code",
   "execution_count": 376,
   "id": "147f22bb",
   "metadata": {},
   "outputs": [
    {
     "data": {
      "text/plain": [
       "Text(0.5, 1.0, 'Values Greater Than 0.4')"
      ]
     },
     "execution_count": 376,
     "metadata": {},
     "output_type": "execute_result"
    },
    {
     "data": {
      "image/png": "[encoded data removed]",
      "text/plain": [
       "<Figure size 1600x1000 with 1 Axes>"
      ]
     },
     "metadata": {},
     "output_type": "display_data"
    }
   ],
   "source": [
    "import matplotlib.pyplot as plt\n",
    "threshold=0.4 #for location\n",
    "imp=values[values>threshold]\n",
    "imp\n",
    "\n",
    "plt.figure(figsize=(16, 10))\n",
    "# Create a bar plot\n",
    "plt.bar(imp.index, imp.values)\n",
    "\n",
    "plt.xticks(rotation=45)\n",
    "# Add labels and title\n",
    "plt.xlabel('Index')\n",
    "plt.ylabel('Values')\n",
    "plt.title(f'Values Greater Than {threshold}')"
   ]
  },
  {
   "cell_type": "code",
   "execution_count": 377,
   "id": "c262cdfa",
   "metadata": {},
   "outputs": [
    {
     "name": "stderr",
     "output_type": "stream",
     "text": [
      "C:\\Users\\melro\\AppData\\Local\\Temp\\ipykernel_26512\\114142037.py:1: SettingWithCopyWarning: \n",
      "A value is trying to be set on a copy of a slice from a DataFrame.\n",
      "Try using .loc[row_indexer,col_indexer] = value instead\n",
      "\n",
      "See the caveats in the documentation: https://pandas.pydata.org/pandas-docs/stable/user_guide/indexing.html#returning-a-view-versus-a-copy\n",
      "  data['location']=np.where(data['location'].isin(imp.index),data['location'],'other')\n"
     ]
    }
   ],
   "source": [
    "data['location']=np.where(data['location'].isin(imp.index),data['location'],'other')"
   ]
  },
  {
   "cell_type": "code",
   "execution_count": 378,
   "id": "4ba99ebc",
   "metadata": {},
   "outputs": [
    {
     "data": {
      "text/plain": [
       "47"
      ]
     },
     "execution_count": 378,
     "metadata": {},
     "output_type": "execute_result"
    }
   ],
   "source": [
    "data['location'].nunique() #reduced the location features to 47"
   ]
  },
  {
   "cell_type": "code",
   "execution_count": 379,
   "id": "9cf4dcd6",
   "metadata": {},
   "outputs": [
    {
     "data": {
      "text/plain": [
       "Quick Bites                   33.643478\n",
       "Casual Dining                 23.299654\n",
       "Cafe                           8.163117\n",
       "Dessert Parlor                 4.482566\n",
       "Delivery                       4.048848\n",
       "                                ...    \n",
       "Food Court, Beverage Shop      0.004846\n",
       "Dessert Parlor, Food Court     0.004846\n",
       "Dessert Parlor, Kiosk          0.004846\n",
       "Bakery, Beverage Shop          0.002423\n",
       "Quick Bites, Kiosk             0.002423\n",
       "Name: rest_type, Length: 87, dtype: float64"
      ]
     },
     "execution_count": 379,
     "metadata": {},
     "output_type": "execute_result"
    }
   ],
   "source": [
    "# for rest_type\n",
    "values2=data['rest_type'].value_counts()/len(data)*100\n",
    "values2"
   ]
  },
  {
   "cell_type": "code",
   "execution_count": 380,
   "id": "73e69843",
   "metadata": {},
   "outputs": [
    {
     "data": {
      "text/plain": [
       "29"
      ]
     },
     "execution_count": 380,
     "metadata": {},
     "output_type": "execute_result"
    }
   ],
   "source": [
    "#setting threshold as 0.3 to check number of features reduced to\n",
    "len(values2[values2>0.3])"
   ]
  },
  {
   "cell_type": "code",
   "execution_count": 381,
   "id": "c92d1a88",
   "metadata": {},
   "outputs": [
    {
     "data": {
      "image/png": "[encoded data removed]",
      "text/plain": [
       "<Figure size 640x480 with 1 Axes>"
      ]
     },
     "metadata": {},
     "output_type": "display_data"
    }
   ],
   "source": [
    "#making it 1.5 to reduce more\n",
    "threshold=1.5\n",
    "imp2=values2[values2>1.5]\n",
    "imp2\n",
    "plt.bar(imp2.index, imp2.values)\n",
    "plt.xticks(rotation=45)\n",
    "\n",
    "# Add labels and title\n",
    "plt.xlabel('Index')\n",
    "plt.ylabel('Values')\n",
    "plt.title(f'Values Greater Than {threshold}')\n",
    "plt.savefig('box_plot.png')"
   ]
  },
  {
   "cell_type": "code",
   "execution_count": 382,
   "id": "f5aceba8",
   "metadata": {},
   "outputs": [
    {
     "name": "stderr",
     "output_type": "stream",
     "text": [
      "C:\\Users\\melro\\AppData\\Local\\Temp\\ipykernel_26512\\1671127400.py:1: SettingWithCopyWarning: \n",
      "A value is trying to be set on a copy of a slice from a DataFrame.\n",
      "Try using .loc[row_indexer,col_indexer] = value instead\n",
      "\n",
      "See the caveats in the documentation: https://pandas.pydata.org/pandas-docs/stable/user_guide/indexing.html#returning-a-view-versus-a-copy\n",
      "  data['rest_type']=np.where(data['rest_type'].isin(imp2.index),data['rest_type'],'other')\n"
     ]
    }
   ],
   "source": [
    "data['rest_type']=np.where(data['rest_type'].isin(imp2.index),data['rest_type'],'other')"
   ]
  },
  {
   "cell_type": "code",
   "execution_count": 383,
   "id": "b40494a6",
   "metadata": {},
   "outputs": [
    {
     "name": "stdout",
     "output_type": "stream",
     "text": [
      "online_order has total 2 unique features\n",
      "book_table has total 2 unique features\n",
      "location has total 47 unique features\n",
      "rest_type has total 11 unique features\n",
      "listed_in(type) has total 7 unique features\n"
     ]
    }
   ],
   "source": [
    "# lets see how much features we are left with now\n",
    "for feature in cat_features:\n",
    "    print('{} has total {} unique features'.format(feature, data[feature].nunique()))"
   ]
  },
  {
   "cell_type": "code",
   "execution_count": 384,
   "id": "13ae25a2",
   "metadata": {},
   "outputs": [],
   "source": [
    "#feature encoding now\n",
    "data_cat = data[cat_features]\n",
    "for col in cat_features:\n",
    "    col_encoded = pd.get_dummies(data_cat[col],prefix=col,drop_first=False)\n",
    "    data_cat=pd.concat([data_cat,col_encoded],axis=1)\n",
    "    data_cat.drop(col, axis=1, inplace=True)"
   ]
  },
  {
   "cell_type": "code",
   "execution_count": 385,
   "id": "52745d08",
   "metadata": {},
   "outputs": [
    {
     "data": {
      "text/html": [
       "<div>\n",
       "<style scoped>\n",
       "    .dataframe tbody tr th:only-of-type {\n",
       "        vertical-align: middle;\n",
       "    }\n",
       "\n",
       "    .dataframe tbody tr th {\n",
       "        vertical-align: top;\n",
       "    }\n",
       "\n",
       "    .dataframe thead th {\n",
       "        text-align: right;\n",
       "    }\n",
       "</style>\n",
       "<table border=\"1\" class=\"dataframe\">\n",
       "  <thead>\n",
       "    <tr style=\"text-align: right;\">\n",
       "      <th></th>\n",
       "      <th>online_order_No</th>\n",
       "      <th>online_order_Yes</th>\n",
       "      <th>book_table_No</th>\n",
       "      <th>book_table_Yes</th>\n",
       "      <th>location_BTM</th>\n",
       "      <th>location_Banashankari</th>\n",
       "      <th>location_Banaswadi</th>\n",
       "      <th>location_Bannerghatta Road</th>\n",
       "      <th>location_Basavanagudi</th>\n",
       "      <th>location_Bellandur</th>\n",
       "      <th>...</th>\n",
       "      <th>rest_type_Quick Bites</th>\n",
       "      <th>rest_type_Takeaway, Delivery</th>\n",
       "      <th>rest_type_other</th>\n",
       "      <th>listed_in(type)_Buffet</th>\n",
       "      <th>listed_in(type)_Cafes</th>\n",
       "      <th>listed_in(type)_Delivery</th>\n",
       "      <th>listed_in(type)_Desserts</th>\n",
       "      <th>listed_in(type)_Dine-out</th>\n",
       "      <th>listed_in(type)_Drinks &amp; nightlife</th>\n",
       "      <th>listed_in(type)_Pubs and bars</th>\n",
       "    </tr>\n",
       "  </thead>\n",
       "  <tbody>\n",
       "    <tr>\n",
       "      <th>0</th>\n",
       "      <td>0</td>\n",
       "      <td>1</td>\n",
       "      <td>0</td>\n",
       "      <td>1</td>\n",
       "      <td>0</td>\n",
       "      <td>1</td>\n",
       "      <td>0</td>\n",
       "      <td>0</td>\n",
       "      <td>0</td>\n",
       "      <td>0</td>\n",
       "      <td>...</td>\n",
       "      <td>0</td>\n",
       "      <td>0</td>\n",
       "      <td>0</td>\n",
       "      <td>1</td>\n",
       "      <td>0</td>\n",
       "      <td>0</td>\n",
       "      <td>0</td>\n",
       "      <td>0</td>\n",
       "      <td>0</td>\n",
       "      <td>0</td>\n",
       "    </tr>\n",
       "    <tr>\n",
       "      <th>1</th>\n",
       "      <td>0</td>\n",
       "      <td>1</td>\n",
       "      <td>1</td>\n",
       "      <td>0</td>\n",
       "      <td>0</td>\n",
       "      <td>1</td>\n",
       "      <td>0</td>\n",
       "      <td>0</td>\n",
       "      <td>0</td>\n",
       "      <td>0</td>\n",
       "      <td>...</td>\n",
       "      <td>0</td>\n",
       "      <td>0</td>\n",
       "      <td>0</td>\n",
       "      <td>1</td>\n",
       "      <td>0</td>\n",
       "      <td>0</td>\n",
       "      <td>0</td>\n",
       "      <td>0</td>\n",
       "      <td>0</td>\n",
       "      <td>0</td>\n",
       "    </tr>\n",
       "    <tr>\n",
       "      <th>2</th>\n",
       "      <td>0</td>\n",
       "      <td>1</td>\n",
       "      <td>1</td>\n",
       "      <td>0</td>\n",
       "      <td>0</td>\n",
       "      <td>1</td>\n",
       "      <td>0</td>\n",
       "      <td>0</td>\n",
       "      <td>0</td>\n",
       "      <td>0</td>\n",
       "      <td>...</td>\n",
       "      <td>0</td>\n",
       "      <td>0</td>\n",
       "      <td>1</td>\n",
       "      <td>1</td>\n",
       "      <td>0</td>\n",
       "      <td>0</td>\n",
       "      <td>0</td>\n",
       "      <td>0</td>\n",
       "      <td>0</td>\n",
       "      <td>0</td>\n",
       "    </tr>\n",
       "    <tr>\n",
       "      <th>3</th>\n",
       "      <td>1</td>\n",
       "      <td>0</td>\n",
       "      <td>1</td>\n",
       "      <td>0</td>\n",
       "      <td>0</td>\n",
       "      <td>1</td>\n",
       "      <td>0</td>\n",
       "      <td>0</td>\n",
       "      <td>0</td>\n",
       "      <td>0</td>\n",
       "      <td>...</td>\n",
       "      <td>1</td>\n",
       "      <td>0</td>\n",
       "      <td>0</td>\n",
       "      <td>1</td>\n",
       "      <td>0</td>\n",
       "      <td>0</td>\n",
       "      <td>0</td>\n",
       "      <td>0</td>\n",
       "      <td>0</td>\n",
       "      <td>0</td>\n",
       "    </tr>\n",
       "    <tr>\n",
       "      <th>4</th>\n",
       "      <td>1</td>\n",
       "      <td>0</td>\n",
       "      <td>1</td>\n",
       "      <td>0</td>\n",
       "      <td>0</td>\n",
       "      <td>0</td>\n",
       "      <td>0</td>\n",
       "      <td>0</td>\n",
       "      <td>1</td>\n",
       "      <td>0</td>\n",
       "      <td>...</td>\n",
       "      <td>0</td>\n",
       "      <td>0</td>\n",
       "      <td>0</td>\n",
       "      <td>1</td>\n",
       "      <td>0</td>\n",
       "      <td>0</td>\n",
       "      <td>0</td>\n",
       "      <td>0</td>\n",
       "      <td>0</td>\n",
       "      <td>0</td>\n",
       "    </tr>\n",
       "  </tbody>\n",
       "</table>\n",
       "<p>5 rows × 69 columns</p>\n",
       "</div>"
      ],
      "text/plain": [
       "   online_order_No  online_order_Yes  book_table_No  book_table_Yes  \\\n",
       "0                0                 1              0               1   \n",
       "1                0                 1              1               0   \n",
       "2                0                 1              1               0   \n",
       "3                1                 0              1               0   \n",
       "4                1                 0              1               0   \n",
       "\n",
       "   location_BTM  location_Banashankari  location_Banaswadi  \\\n",
       "0             0                      1                   0   \n",
       "1             0                      1                   0   \n",
       "2             0                      1                   0   \n",
       "3             0                      1                   0   \n",
       "4             0                      0                   0   \n",
       "\n",
       "   location_Bannerghatta Road  location_Basavanagudi  location_Bellandur  ...  \\\n",
       "0                           0                      0                   0  ...   \n",
       "1                           0                      0                   0  ...   \n",
       "2                           0                      0                   0  ...   \n",
       "3                           0                      0                   0  ...   \n",
       "4                           0                      1                   0  ...   \n",
       "\n",
       "   rest_type_Quick Bites  rest_type_Takeaway, Delivery  rest_type_other  \\\n",
       "0                      0                             0                0   \n",
       "1                      0                             0                0   \n",
       "2                      0                             0                1   \n",
       "3                      1                             0                0   \n",
       "4                      0                             0                0   \n",
       "\n",
       "   listed_in(type)_Buffet  listed_in(type)_Cafes  listed_in(type)_Delivery  \\\n",
       "0                       1                      0                         0   \n",
       "1                       1                      0                         0   \n",
       "2                       1                      0                         0   \n",
       "3                       1                      0                         0   \n",
       "4                       1                      0                         0   \n",
       "\n",
       "   listed_in(type)_Desserts  listed_in(type)_Dine-out  \\\n",
       "0                         0                         0   \n",
       "1                         0                         0   \n",
       "2                         0                         0   \n",
       "3                         0                         0   \n",
       "4                         0                         0   \n",
       "\n",
       "   listed_in(type)_Drinks & nightlife  listed_in(type)_Pubs and bars  \n",
       "0                                   0                              0  \n",
       "1                                   0                              0  \n",
       "2                                   0                              0  \n",
       "3                                   0                              0  \n",
       "4                                   0                              0  \n",
       "\n",
       "[5 rows x 69 columns]"
      ]
     },
     "execution_count": 385,
     "metadata": {},
     "output_type": "execute_result"
    }
   ],
   "source": [
    "data_cat.head(5)"
   ]
  },
  {
   "cell_type": "code",
   "execution_count": 386,
   "id": "f21fbbd1",
   "metadata": {},
   "outputs": [],
   "source": [
    "data_cat.drop(['online_order_No','book_table_No'], axis=1, inplace =True)"
   ]
  },
  {
   "cell_type": "code",
   "execution_count": 387,
   "id": "e4179250",
   "metadata": {},
   "outputs": [
    {
     "data": {
      "text/html": [
       "<div>\n",
       "<style scoped>\n",
       "    .dataframe tbody tr th:only-of-type {\n",
       "        vertical-align: middle;\n",
       "    }\n",
       "\n",
       "    .dataframe tbody tr th {\n",
       "        vertical-align: top;\n",
       "    }\n",
       "\n",
       "    .dataframe thead th {\n",
       "        text-align: right;\n",
       "    }\n",
       "</style>\n",
       "<table border=\"1\" class=\"dataframe\">\n",
       "  <thead>\n",
       "    <tr style=\"text-align: right;\">\n",
       "      <th></th>\n",
       "      <th>online_order_Yes</th>\n",
       "      <th>book_table_Yes</th>\n",
       "      <th>location_BTM</th>\n",
       "      <th>location_Banashankari</th>\n",
       "      <th>location_Banaswadi</th>\n",
       "      <th>location_Bannerghatta Road</th>\n",
       "      <th>location_Basavanagudi</th>\n",
       "      <th>location_Bellandur</th>\n",
       "      <th>location_Brigade Road</th>\n",
       "      <th>location_Brookefield</th>\n",
       "      <th>...</th>\n",
       "      <th>rest_type_Quick Bites</th>\n",
       "      <th>rest_type_Takeaway, Delivery</th>\n",
       "      <th>rest_type_other</th>\n",
       "      <th>listed_in(type)_Buffet</th>\n",
       "      <th>listed_in(type)_Cafes</th>\n",
       "      <th>listed_in(type)_Delivery</th>\n",
       "      <th>listed_in(type)_Desserts</th>\n",
       "      <th>listed_in(type)_Dine-out</th>\n",
       "      <th>listed_in(type)_Drinks &amp; nightlife</th>\n",
       "      <th>listed_in(type)_Pubs and bars</th>\n",
       "    </tr>\n",
       "  </thead>\n",
       "  <tbody>\n",
       "    <tr>\n",
       "      <th>0</th>\n",
       "      <td>1</td>\n",
       "      <td>1</td>\n",
       "      <td>0</td>\n",
       "      <td>1</td>\n",
       "      <td>0</td>\n",
       "      <td>0</td>\n",
       "      <td>0</td>\n",
       "      <td>0</td>\n",
       "      <td>0</td>\n",
       "      <td>0</td>\n",
       "      <td>...</td>\n",
       "      <td>0</td>\n",
       "      <td>0</td>\n",
       "      <td>0</td>\n",
       "      <td>1</td>\n",
       "      <td>0</td>\n",
       "      <td>0</td>\n",
       "      <td>0</td>\n",
       "      <td>0</td>\n",
       "      <td>0</td>\n",
       "      <td>0</td>\n",
       "    </tr>\n",
       "    <tr>\n",
       "      <th>1</th>\n",
       "      <td>1</td>\n",
       "      <td>0</td>\n",
       "      <td>0</td>\n",
       "      <td>1</td>\n",
       "      <td>0</td>\n",
       "      <td>0</td>\n",
       "      <td>0</td>\n",
       "      <td>0</td>\n",
       "      <td>0</td>\n",
       "      <td>0</td>\n",
       "      <td>...</td>\n",
       "      <td>0</td>\n",
       "      <td>0</td>\n",
       "      <td>0</td>\n",
       "      <td>1</td>\n",
       "      <td>0</td>\n",
       "      <td>0</td>\n",
       "      <td>0</td>\n",
       "      <td>0</td>\n",
       "      <td>0</td>\n",
       "      <td>0</td>\n",
       "    </tr>\n",
       "    <tr>\n",
       "      <th>2</th>\n",
       "      <td>1</td>\n",
       "      <td>0</td>\n",
       "      <td>0</td>\n",
       "      <td>1</td>\n",
       "      <td>0</td>\n",
       "      <td>0</td>\n",
       "      <td>0</td>\n",
       "      <td>0</td>\n",
       "      <td>0</td>\n",
       "      <td>0</td>\n",
       "      <td>...</td>\n",
       "      <td>0</td>\n",
       "      <td>0</td>\n",
       "      <td>1</td>\n",
       "      <td>1</td>\n",
       "      <td>0</td>\n",
       "      <td>0</td>\n",
       "      <td>0</td>\n",
       "      <td>0</td>\n",
       "      <td>0</td>\n",
       "      <td>0</td>\n",
       "    </tr>\n",
       "    <tr>\n",
       "      <th>3</th>\n",
       "      <td>0</td>\n",
       "      <td>0</td>\n",
       "      <td>0</td>\n",
       "      <td>1</td>\n",
       "      <td>0</td>\n",
       "      <td>0</td>\n",
       "      <td>0</td>\n",
       "      <td>0</td>\n",
       "      <td>0</td>\n",
       "      <td>0</td>\n",
       "      <td>...</td>\n",
       "      <td>1</td>\n",
       "      <td>0</td>\n",
       "      <td>0</td>\n",
       "      <td>1</td>\n",
       "      <td>0</td>\n",
       "      <td>0</td>\n",
       "      <td>0</td>\n",
       "      <td>0</td>\n",
       "      <td>0</td>\n",
       "      <td>0</td>\n",
       "    </tr>\n",
       "    <tr>\n",
       "      <th>4</th>\n",
       "      <td>0</td>\n",
       "      <td>0</td>\n",
       "      <td>0</td>\n",
       "      <td>0</td>\n",
       "      <td>0</td>\n",
       "      <td>0</td>\n",
       "      <td>1</td>\n",
       "      <td>0</td>\n",
       "      <td>0</td>\n",
       "      <td>0</td>\n",
       "      <td>...</td>\n",
       "      <td>0</td>\n",
       "      <td>0</td>\n",
       "      <td>0</td>\n",
       "      <td>1</td>\n",
       "      <td>0</td>\n",
       "      <td>0</td>\n",
       "      <td>0</td>\n",
       "      <td>0</td>\n",
       "      <td>0</td>\n",
       "      <td>0</td>\n",
       "    </tr>\n",
       "  </tbody>\n",
       "</table>\n",
       "<p>5 rows × 67 columns</p>\n",
       "</div>"
      ],
      "text/plain": [
       "   online_order_Yes  book_table_Yes  location_BTM  location_Banashankari  \\\n",
       "0                 1               1             0                      1   \n",
       "1                 1               0             0                      1   \n",
       "2                 1               0             0                      1   \n",
       "3                 0               0             0                      1   \n",
       "4                 0               0             0                      0   \n",
       "\n",
       "   location_Banaswadi  location_Bannerghatta Road  location_Basavanagudi  \\\n",
       "0                   0                           0                      0   \n",
       "1                   0                           0                      0   \n",
       "2                   0                           0                      0   \n",
       "3                   0                           0                      0   \n",
       "4                   0                           0                      1   \n",
       "\n",
       "   location_Bellandur  location_Brigade Road  location_Brookefield  ...  \\\n",
       "0                   0                      0                     0  ...   \n",
       "1                   0                      0                     0  ...   \n",
       "2                   0                      0                     0  ...   \n",
       "3                   0                      0                     0  ...   \n",
       "4                   0                      0                     0  ...   \n",
       "\n",
       "   rest_type_Quick Bites  rest_type_Takeaway, Delivery  rest_type_other  \\\n",
       "0                      0                             0                0   \n",
       "1                      0                             0                0   \n",
       "2                      0                             0                1   \n",
       "3                      1                             0                0   \n",
       "4                      0                             0                0   \n",
       "\n",
       "   listed_in(type)_Buffet  listed_in(type)_Cafes  listed_in(type)_Delivery  \\\n",
       "0                       1                      0                         0   \n",
       "1                       1                      0                         0   \n",
       "2                       1                      0                         0   \n",
       "3                       1                      0                         0   \n",
       "4                       1                      0                         0   \n",
       "\n",
       "   listed_in(type)_Desserts  listed_in(type)_Dine-out  \\\n",
       "0                         0                         0   \n",
       "1                         0                         0   \n",
       "2                         0                         0   \n",
       "3                         0                         0   \n",
       "4                         0                         0   \n",
       "\n",
       "   listed_in(type)_Drinks & nightlife  listed_in(type)_Pubs and bars  \n",
       "0                                   0                              0  \n",
       "1                                   0                              0  \n",
       "2                                   0                              0  \n",
       "3                                   0                              0  \n",
       "4                                   0                              0  \n",
       "\n",
       "[5 rows x 67 columns]"
      ]
     },
     "execution_count": 387,
     "metadata": {},
     "output_type": "execute_result"
    }
   ],
   "source": [
    "data_cat.head()"
   ]
  },
  {
   "cell_type": "code",
   "execution_count": 409,
   "id": "d8adb2a2",
   "metadata": {},
   "outputs": [
    {
     "data": {
      "text/html": [
       "<div>\n",
       "<style scoped>\n",
       "    .dataframe tbody tr th:only-of-type {\n",
       "        vertical-align: middle;\n",
       "    }\n",
       "\n",
       "    .dataframe tbody tr th {\n",
       "        vertical-align: top;\n",
       "    }\n",
       "\n",
       "    .dataframe thead th {\n",
       "        text-align: right;\n",
       "    }\n",
       "</style>\n",
       "<table border=\"1\" class=\"dataframe\">\n",
       "  <thead>\n",
       "    <tr style=\"text-align: right;\">\n",
       "      <th></th>\n",
       "      <th>multiple_types</th>\n",
       "      <th>total_cuisines</th>\n",
       "      <th>approx_cost(for two people)</th>\n",
       "      <th>target</th>\n",
       "      <th>online_order_Yes</th>\n",
       "      <th>book_table_Yes</th>\n",
       "      <th>location_BTM</th>\n",
       "      <th>location_Banashankari</th>\n",
       "      <th>location_Banaswadi</th>\n",
       "      <th>location_Bannerghatta Road</th>\n",
       "      <th>...</th>\n",
       "      <th>rest_type_Quick Bites</th>\n",
       "      <th>rest_type_Takeaway, Delivery</th>\n",
       "      <th>rest_type_other</th>\n",
       "      <th>listed_in(type)_Buffet</th>\n",
       "      <th>listed_in(type)_Cafes</th>\n",
       "      <th>listed_in(type)_Delivery</th>\n",
       "      <th>listed_in(type)_Desserts</th>\n",
       "      <th>listed_in(type)_Dine-out</th>\n",
       "      <th>listed_in(type)_Drinks &amp; nightlife</th>\n",
       "      <th>listed_in(type)_Pubs and bars</th>\n",
       "    </tr>\n",
       "  </thead>\n",
       "  <tbody>\n",
       "    <tr>\n",
       "      <th>0</th>\n",
       "      <td>1</td>\n",
       "      <td>3</td>\n",
       "      <td>800.0</td>\n",
       "      <td>1</td>\n",
       "      <td>1</td>\n",
       "      <td>1</td>\n",
       "      <td>0</td>\n",
       "      <td>1</td>\n",
       "      <td>0</td>\n",
       "      <td>0</td>\n",
       "      <td>...</td>\n",
       "      <td>0</td>\n",
       "      <td>0</td>\n",
       "      <td>0</td>\n",
       "      <td>1</td>\n",
       "      <td>0</td>\n",
       "      <td>0</td>\n",
       "      <td>0</td>\n",
       "      <td>0</td>\n",
       "      <td>0</td>\n",
       "      <td>0</td>\n",
       "    </tr>\n",
       "    <tr>\n",
       "      <th>1</th>\n",
       "      <td>1</td>\n",
       "      <td>3</td>\n",
       "      <td>800.0</td>\n",
       "      <td>1</td>\n",
       "      <td>1</td>\n",
       "      <td>0</td>\n",
       "      <td>0</td>\n",
       "      <td>1</td>\n",
       "      <td>0</td>\n",
       "      <td>0</td>\n",
       "      <td>...</td>\n",
       "      <td>0</td>\n",
       "      <td>0</td>\n",
       "      <td>0</td>\n",
       "      <td>1</td>\n",
       "      <td>0</td>\n",
       "      <td>0</td>\n",
       "      <td>0</td>\n",
       "      <td>0</td>\n",
       "      <td>0</td>\n",
       "      <td>0</td>\n",
       "    </tr>\n",
       "    <tr>\n",
       "      <th>2</th>\n",
       "      <td>2</td>\n",
       "      <td>3</td>\n",
       "      <td>800.0</td>\n",
       "      <td>1</td>\n",
       "      <td>1</td>\n",
       "      <td>0</td>\n",
       "      <td>0</td>\n",
       "      <td>1</td>\n",
       "      <td>0</td>\n",
       "      <td>0</td>\n",
       "      <td>...</td>\n",
       "      <td>0</td>\n",
       "      <td>0</td>\n",
       "      <td>1</td>\n",
       "      <td>1</td>\n",
       "      <td>0</td>\n",
       "      <td>0</td>\n",
       "      <td>0</td>\n",
       "      <td>0</td>\n",
       "      <td>0</td>\n",
       "      <td>0</td>\n",
       "    </tr>\n",
       "    <tr>\n",
       "      <th>3</th>\n",
       "      <td>1</td>\n",
       "      <td>2</td>\n",
       "      <td>300.0</td>\n",
       "      <td>0</td>\n",
       "      <td>0</td>\n",
       "      <td>0</td>\n",
       "      <td>0</td>\n",
       "      <td>1</td>\n",
       "      <td>0</td>\n",
       "      <td>0</td>\n",
       "      <td>...</td>\n",
       "      <td>1</td>\n",
       "      <td>0</td>\n",
       "      <td>0</td>\n",
       "      <td>1</td>\n",
       "      <td>0</td>\n",
       "      <td>0</td>\n",
       "      <td>0</td>\n",
       "      <td>0</td>\n",
       "      <td>0</td>\n",
       "      <td>0</td>\n",
       "    </tr>\n",
       "    <tr>\n",
       "      <th>4</th>\n",
       "      <td>1</td>\n",
       "      <td>2</td>\n",
       "      <td>600.0</td>\n",
       "      <td>1</td>\n",
       "      <td>0</td>\n",
       "      <td>0</td>\n",
       "      <td>0</td>\n",
       "      <td>0</td>\n",
       "      <td>0</td>\n",
       "      <td>0</td>\n",
       "      <td>...</td>\n",
       "      <td>0</td>\n",
       "      <td>0</td>\n",
       "      <td>0</td>\n",
       "      <td>1</td>\n",
       "      <td>0</td>\n",
       "      <td>0</td>\n",
       "      <td>0</td>\n",
       "      <td>0</td>\n",
       "      <td>0</td>\n",
       "      <td>0</td>\n",
       "    </tr>\n",
       "    <tr>\n",
       "      <th>...</th>\n",
       "      <td>...</td>\n",
       "      <td>...</td>\n",
       "      <td>...</td>\n",
       "      <td>...</td>\n",
       "      <td>...</td>\n",
       "      <td>...</td>\n",
       "      <td>...</td>\n",
       "      <td>...</td>\n",
       "      <td>...</td>\n",
       "      <td>...</td>\n",
       "      <td>...</td>\n",
       "      <td>...</td>\n",
       "      <td>...</td>\n",
       "      <td>...</td>\n",
       "      <td>...</td>\n",
       "      <td>...</td>\n",
       "      <td>...</td>\n",
       "      <td>...</td>\n",
       "      <td>...</td>\n",
       "      <td>...</td>\n",
       "      <td>...</td>\n",
       "    </tr>\n",
       "    <tr>\n",
       "      <th>51709</th>\n",
       "      <td>2</td>\n",
       "      <td>2</td>\n",
       "      <td>800.0</td>\n",
       "      <td>0</td>\n",
       "      <td>0</td>\n",
       "      <td>0</td>\n",
       "      <td>0</td>\n",
       "      <td>0</td>\n",
       "      <td>0</td>\n",
       "      <td>0</td>\n",
       "      <td>...</td>\n",
       "      <td>0</td>\n",
       "      <td>0</td>\n",
       "      <td>0</td>\n",
       "      <td>0</td>\n",
       "      <td>0</td>\n",
       "      <td>0</td>\n",
       "      <td>0</td>\n",
       "      <td>0</td>\n",
       "      <td>0</td>\n",
       "      <td>1</td>\n",
       "    </tr>\n",
       "    <tr>\n",
       "      <th>51711</th>\n",
       "      <td>2</td>\n",
       "      <td>4</td>\n",
       "      <td>800.0</td>\n",
       "      <td>0</td>\n",
       "      <td>0</td>\n",
       "      <td>0</td>\n",
       "      <td>0</td>\n",
       "      <td>0</td>\n",
       "      <td>0</td>\n",
       "      <td>0</td>\n",
       "      <td>...</td>\n",
       "      <td>0</td>\n",
       "      <td>0</td>\n",
       "      <td>0</td>\n",
       "      <td>0</td>\n",
       "      <td>0</td>\n",
       "      <td>0</td>\n",
       "      <td>0</td>\n",
       "      <td>0</td>\n",
       "      <td>0</td>\n",
       "      <td>1</td>\n",
       "    </tr>\n",
       "    <tr>\n",
       "      <th>51712</th>\n",
       "      <td>1</td>\n",
       "      <td>1</td>\n",
       "      <td>1500.0</td>\n",
       "      <td>0</td>\n",
       "      <td>0</td>\n",
       "      <td>0</td>\n",
       "      <td>0</td>\n",
       "      <td>0</td>\n",
       "      <td>0</td>\n",
       "      <td>0</td>\n",
       "      <td>...</td>\n",
       "      <td>0</td>\n",
       "      <td>0</td>\n",
       "      <td>0</td>\n",
       "      <td>0</td>\n",
       "      <td>0</td>\n",
       "      <td>0</td>\n",
       "      <td>0</td>\n",
       "      <td>0</td>\n",
       "      <td>0</td>\n",
       "      <td>1</td>\n",
       "    </tr>\n",
       "    <tr>\n",
       "      <th>51715</th>\n",
       "      <td>1</td>\n",
       "      <td>1</td>\n",
       "      <td>2500.0</td>\n",
       "      <td>1</td>\n",
       "      <td>0</td>\n",
       "      <td>1</td>\n",
       "      <td>0</td>\n",
       "      <td>0</td>\n",
       "      <td>0</td>\n",
       "      <td>0</td>\n",
       "      <td>...</td>\n",
       "      <td>0</td>\n",
       "      <td>0</td>\n",
       "      <td>0</td>\n",
       "      <td>0</td>\n",
       "      <td>0</td>\n",
       "      <td>0</td>\n",
       "      <td>0</td>\n",
       "      <td>0</td>\n",
       "      <td>0</td>\n",
       "      <td>1</td>\n",
       "    </tr>\n",
       "    <tr>\n",
       "      <th>51716</th>\n",
       "      <td>2</td>\n",
       "      <td>3</td>\n",
       "      <td>1500.0</td>\n",
       "      <td>0</td>\n",
       "      <td>0</td>\n",
       "      <td>0</td>\n",
       "      <td>0</td>\n",
       "      <td>0</td>\n",
       "      <td>0</td>\n",
       "      <td>0</td>\n",
       "      <td>...</td>\n",
       "      <td>0</td>\n",
       "      <td>0</td>\n",
       "      <td>1</td>\n",
       "      <td>0</td>\n",
       "      <td>0</td>\n",
       "      <td>0</td>\n",
       "      <td>0</td>\n",
       "      <td>0</td>\n",
       "      <td>0</td>\n",
       "      <td>1</td>\n",
       "    </tr>\n",
       "  </tbody>\n",
       "</table>\n",
       "<p>41271 rows × 71 columns</p>\n",
       "</div>"
      ],
      "text/plain": [
       "       multiple_types  total_cuisines  approx_cost(for two people)  target  \\\n",
       "0                   1               3                        800.0       1   \n",
       "1                   1               3                        800.0       1   \n",
       "2                   2               3                        800.0       1   \n",
       "3                   1               2                        300.0       0   \n",
       "4                   1               2                        600.0       1   \n",
       "...               ...             ...                          ...     ...   \n",
       "51709               2               2                        800.0       0   \n",
       "51711               2               4                        800.0       0   \n",
       "51712               1               1                       1500.0       0   \n",
       "51715               1               1                       2500.0       1   \n",
       "51716               2               3                       1500.0       0   \n",
       "\n",
       "       online_order_Yes  book_table_Yes  location_BTM  location_Banashankari  \\\n",
       "0                     1               1             0                      1   \n",
       "1                     1               0             0                      1   \n",
       "2                     1               0             0                      1   \n",
       "3                     0               0             0                      1   \n",
       "4                     0               0             0                      0   \n",
       "...                 ...             ...           ...                    ...   \n",
       "51709                 0               0             0                      0   \n",
       "51711                 0               0             0                      0   \n",
       "51712                 0               0             0                      0   \n",
       "51715                 0               1             0                      0   \n",
       "51716                 0               0             0                      0   \n",
       "\n",
       "       location_Banaswadi  location_Bannerghatta Road  ...  \\\n",
       "0                       0                           0  ...   \n",
       "1                       0                           0  ...   \n",
       "2                       0                           0  ...   \n",
       "3                       0                           0  ...   \n",
       "4                       0                           0  ...   \n",
       "...                   ...                         ...  ...   \n",
       "51709                   0                           0  ...   \n",
       "51711                   0                           0  ...   \n",
       "51712                   0                           0  ...   \n",
       "51715                   0                           0  ...   \n",
       "51716                   0                           0  ...   \n",
       "\n",
       "       rest_type_Quick Bites  rest_type_Takeaway, Delivery  rest_type_other  \\\n",
       "0                          0                             0                0   \n",
       "1                          0                             0                0   \n",
       "2                          0                             0                1   \n",
       "3                          1                             0                0   \n",
       "4                          0                             0                0   \n",
       "...                      ...                           ...              ...   \n",
       "51709                      0                             0                0   \n",
       "51711                      0                             0                0   \n",
       "51712                      0                             0                0   \n",
       "51715                      0                             0                0   \n",
       "51716                      0                             0                1   \n",
       "\n",
       "       listed_in(type)_Buffet  listed_in(type)_Cafes  \\\n",
       "0                           1                      0   \n",
       "1                           1                      0   \n",
       "2                           1                      0   \n",
       "3                           1                      0   \n",
       "4                           1                      0   \n",
       "...                       ...                    ...   \n",
       "51709                       0                      0   \n",
       "51711                       0                      0   \n",
       "51712                       0                      0   \n",
       "51715                       0                      0   \n",
       "51716                       0                      0   \n",
       "\n",
       "       listed_in(type)_Delivery  listed_in(type)_Desserts  \\\n",
       "0                             0                         0   \n",
       "1                             0                         0   \n",
       "2                             0                         0   \n",
       "3                             0                         0   \n",
       "4                             0                         0   \n",
       "...                         ...                       ...   \n",
       "51709                         0                         0   \n",
       "51711                         0                         0   \n",
       "51712                         0                         0   \n",
       "51715                         0                         0   \n",
       "51716                         0                         0   \n",
       "\n",
       "       listed_in(type)_Dine-out  listed_in(type)_Drinks & nightlife  \\\n",
       "0                             0                                   0   \n",
       "1                             0                                   0   \n",
       "2                             0                                   0   \n",
       "3                             0                                   0   \n",
       "4                             0                                   0   \n",
       "...                         ...                                 ...   \n",
       "51709                         0                                   0   \n",
       "51711                         0                                   0   \n",
       "51712                         0                                   0   \n",
       "51715                         0                                   0   \n",
       "51716                         0                                   0   \n",
       "\n",
       "       listed_in(type)_Pubs and bars  \n",
       "0                                  0  \n",
       "1                                  0  \n",
       "2                                  0  \n",
       "3                                  0  \n",
       "4                                  0  \n",
       "...                              ...  \n",
       "51709                              1  \n",
       "51711                              1  \n",
       "51712                              1  \n",
       "51715                              1  \n",
       "51716                              1  \n",
       "\n",
       "[41271 rows x 71 columns]"
      ]
     },
     "execution_count": 409,
     "metadata": {},
     "output_type": "execute_result"
    }
   ],
   "source": [
    "#contacting with final data\n",
    "data_final=pd.concat([data.loc[:,['multiple_types','total_cuisines','approx_cost(for two people)','target']],data_cat],axis=1)\n",
    "data_final"
   ]
  },
  {
   "cell_type": "code",
   "execution_count": 389,
   "id": "7d1c7580",
   "metadata": {},
   "outputs": [
    {
     "data": {
      "text/plain": [
       "(41271, 71)"
      ]
     },
     "execution_count": 389,
     "metadata": {},
     "output_type": "execute_result"
    }
   ],
   "source": [
    "data_final.shape"
   ]
  },
  {
   "cell_type": "code",
   "execution_count": 410,
   "id": "94152d06",
   "metadata": {},
   "outputs": [
    {
     "data": {
      "text/plain": [
       "array([1, 1, 1, ..., 0, 1, 0], dtype=int64)"
      ]
     },
     "execution_count": 410,
     "metadata": {},
     "output_type": "execute_result"
    }
   ],
   "source": [
    "# Splitting the data\n",
    "X = data_final.drop('target', axis=1)\n",
    "y = data_final['target'].values\n",
    "y"
   ]
  },
  {
   "cell_type": "code",
   "execution_count": 391,
   "id": "538cdf14",
   "metadata": {},
   "outputs": [],
   "source": [
    "#train test split\n",
    "X_train, X_test, y_train, y_test = train_test_split(X, y, test_size=.20, random_state=42)"
   ]
  },
  {
   "cell_type": "code",
   "execution_count": 392,
   "id": "ad230fb6",
   "metadata": {},
   "outputs": [
    {
     "data": {
      "text/plain": [
       "(33016, 70)"
      ]
     },
     "execution_count": 392,
     "metadata": {},
     "output_type": "execute_result"
    }
   ],
   "source": [
    "X_train.shape"
   ]
  },
  {
   "cell_type": "markdown",
   "id": "72617e14",
   "metadata": {},
   "source": [
    "### model for decision tree"
   ]
  },
  {
   "cell_type": "code",
   "execution_count": 393,
   "id": "8cc50a2b",
   "metadata": {},
   "outputs": [],
   "source": [
    "model = RandomForestClassifier(n_estimators=100, min_samples_leaf=10, random_state=1)"
   ]
  },
  {
   "cell_type": "code",
   "execution_count": 394,
   "id": "a1da393d",
   "metadata": {},
   "outputs": [
    {
     "data": {
      "text/html": [
       "<style>#sk-container-id-6 {color: black;}#sk-container-id-6 pre{padding: 0;}#sk-container-id-6 div.sk-toggleable {background-color: white;}#sk-container-id-6 label.sk-toggleable__label {cursor: pointer;display: block;width: 100%;margin-bottom: 0;padding: 0.3em;box-sizing: border-box;text-align: center;}#sk-container-id-6 label.sk-toggleable__label-arrow:before {content: \"▸\";float: left;margin-right: 0.25em;color: #696969;}#sk-container-id-6 label.sk-toggleable__label-arrow:hover:before {color: black;}#sk-container-id-6 div.sk-estimator:hover label.sk-toggleable__label-arrow:before {color: black;}#sk-container-id-6 div.sk-toggleable__content {max-height: 0;max-width: 0;overflow: hidden;text-align: left;background-color: #f0f8ff;}#sk-container-id-6 div.sk-toggleable__content pre {margin: 0.2em;color: black;border-radius: 0.25em;background-color: #f0f8ff;}#sk-container-id-6 input.sk-toggleable__control:checked~div.sk-toggleable__content {max-height: 200px;max-width: 100%;overflow: auto;}#sk-container-id-6 input.sk-toggleable__control:checked~label.sk-toggleable__label-arrow:before {content: \"▾\";}#sk-container-id-6 div.sk-estimator input.sk-toggleable__control:checked~label.sk-toggleable__label {background-color: #d4ebff;}#sk-container-id-6 div.sk-label input.sk-toggleable__control:checked~label.sk-toggleable__label {background-color: #d4ebff;}#sk-container-id-6 input.sk-hidden--visually {border: 0;clip: rect(1px 1px 1px 1px);clip: rect(1px, 1px, 1px, 1px);height: 1px;margin: -1px;overflow: hidden;padding: 0;position: absolute;width: 1px;}#sk-container-id-6 div.sk-estimator {font-family: monospace;background-color: #f0f8ff;border: 1px dotted black;border-radius: 0.25em;box-sizing: border-box;margin-bottom: 0.5em;}#sk-container-id-6 div.sk-estimator:hover {background-color: #d4ebff;}#sk-container-id-6 div.sk-parallel-item::after {content: \"\";width: 100%;border-bottom: 1px solid gray;flex-grow: 1;}#sk-container-id-6 div.sk-label:hover label.sk-toggleable__label {background-color: #d4ebff;}#sk-container-id-6 div.sk-serial::before {content: \"\";position: absolute;border-left: 1px solid gray;box-sizing: border-box;top: 0;bottom: 0;left: 50%;z-index: 0;}#sk-container-id-6 div.sk-serial {display: flex;flex-direction: column;align-items: center;background-color: white;padding-right: 0.2em;padding-left: 0.2em;position: relative;}#sk-container-id-6 div.sk-item {position: relative;z-index: 1;}#sk-container-id-6 div.sk-parallel {display: flex;align-items: stretch;justify-content: center;background-color: white;position: relative;}#sk-container-id-6 div.sk-item::before, #sk-container-id-6 div.sk-parallel-item::before {content: \"\";position: absolute;border-left: 1px solid gray;box-sizing: border-box;top: 0;bottom: 0;left: 50%;z-index: -1;}#sk-container-id-6 div.sk-parallel-item {display: flex;flex-direction: column;z-index: 1;position: relative;background-color: white;}#sk-container-id-6 div.sk-parallel-item:first-child::after {align-self: flex-end;width: 50%;}#sk-container-id-6 div.sk-parallel-item:last-child::after {align-self: flex-start;width: 50%;}#sk-container-id-6 div.sk-parallel-item:only-child::after {width: 0;}#sk-container-id-6 div.sk-dashed-wrapped {border: 1px dashed gray;margin: 0 0.4em 0.5em 0.4em;box-sizing: border-box;padding-bottom: 0.4em;background-color: white;}#sk-container-id-6 div.sk-label label {font-family: monospace;font-weight: bold;display: inline-block;line-height: 1.2em;}#sk-container-id-6 div.sk-label-container {text-align: center;}#sk-container-id-6 div.sk-container {/* jupyter's `normalize.less` sets `[hidden] { display: none; }` but bootstrap.min.css set `[hidden] { display: none !important; }` so we also need the `!important` here to be able to override the default hidden behavior on the sphinx rendered scikit-learn.org. See: https://github.com/scikit-learn/scikit-learn/issues/21755 */display: inline-block !important;position: relative;}#sk-container-id-6 div.sk-text-repr-fallback {display: none;}</style><div id=\"sk-container-id-6\" class=\"sk-top-container\"><div class=\"sk-text-repr-fallback\"><pre>RandomForestClassifier(min_samples_leaf=10, random_state=1)</pre><b>In a Jupyter environment, please rerun this cell to show the HTML representation or trust the notebook. <br />On GitHub, the HTML representation is unable to render, please try loading this page with nbviewer.org.</b></div><div class=\"sk-container\" hidden><div class=\"sk-item\"><div class=\"sk-estimator sk-toggleable\"><input class=\"sk-toggleable__control sk-hidden--visually\" id=\"sk-estimator-id-6\" type=\"checkbox\" checked><label for=\"sk-estimator-id-6\" class=\"sk-toggleable__label sk-toggleable__label-arrow\">RandomForestClassifier</label><div class=\"sk-toggleable__content\"><pre>RandomForestClassifier(min_samples_leaf=10, random_state=1)</pre></div></div></div></div></div>"
      ],
      "text/plain": [
       "RandomForestClassifier(min_samples_leaf=10, random_state=1)"
      ]
     },
     "execution_count": 394,
     "metadata": {},
     "output_type": "execute_result"
    }
   ],
   "source": [
    "# Fit the model to the data.\n",
    "model.fit(X_train, y_train)"
   ]
  },
  {
   "cell_type": "code",
   "execution_count": 395,
   "id": "8170124c",
   "metadata": {},
   "outputs": [
    {
     "data": {
      "text/plain": [
       "array([[3579, 1271],\n",
       "       [ 673, 2732]], dtype=int64)"
      ]
     },
     "execution_count": 395,
     "metadata": {},
     "output_type": "execute_result"
    }
   ],
   "source": [
    "# Make predictions.\n",
    "predictions = model.predict(X_test)\n",
    "confusion_matrix(predictions, y_test)"
   ]
  },
  {
   "cell_type": "code",
   "execution_count": 396,
   "id": "07354850",
   "metadata": {},
   "outputs": [
    {
     "data": {
      "image/png": "[encoded data removed]",
      "text/plain": [
       "<Figure size 800x600 with 1 Axes>"
      ]
     },
     "metadata": {},
     "output_type": "display_data"
    },
    {
     "name": "stdout",
     "output_type": "stream",
     "text": [
      "Classification Report:\n",
      "              precision    recall  f1-score   support\n",
      "\n",
      "           0       0.74      0.84      0.79      4252\n",
      "           1       0.80      0.68      0.74      4003\n",
      "\n",
      "    accuracy                           0.76      8255\n",
      "   macro avg       0.77      0.76      0.76      8255\n",
      "weighted avg       0.77      0.76      0.76      8255\n",
      "\n"
     ]
    }
   ],
   "source": [
    "# Create a confusion matrix\n",
    "from sklearn.metrics import classification_report\n",
    "\n",
    "conf_matrix = confusion_matrix(y_test, predictions)\n",
    "\n",
    "# Plot the confusion matrix using seaborn\n",
    "plt.figure(figsize=(8, 6))\n",
    "sns.heatmap(conf_matrix, annot=True, fmt='d', cmap='Blues', cbar=False)\n",
    "plt.xlabel('Predicted')\n",
    "plt.ylabel('True')\n",
    "plt.title('Confusion Matrix')\n",
    "plt.savefig('matrix.png')\n",
    "plt.show()\n",
    "\n",
    "# Display classification report\n",
    "print(\"Classification Report:\")\n",
    "print(classification_report(y_test, predictions))"
   ]
  },
  {
   "cell_type": "code",
   "execution_count": 397,
   "id": "a11df504",
   "metadata": {},
   "outputs": [
    {
     "data": {
      "text/plain": [
       "0.7645063597819504"
      ]
     },
     "execution_count": 397,
     "metadata": {},
     "output_type": "execute_result"
    }
   ],
   "source": [
    "accuracy_score(predictions,y_test)"
   ]
  },
  {
   "cell_type": "markdown",
   "id": "ab638a4b",
   "metadata": {},
   "source": [
    "### Creating and Testing for a Random Data"
   ]
  },
  {
   "cell_type": "code",
   "execution_count": 398,
   "id": "9b7d2e5e",
   "metadata": {},
   "outputs": [],
   "source": [
    "listOfColumns = X_train.columns.to_list()"
   ]
  },
  {
   "cell_type": "code",
   "execution_count": 399,
   "id": "159ea486",
   "metadata": {},
   "outputs": [],
   "source": [
    "# creating for dict for testing\n",
    "dictForTest = {}\n",
    "for i in listOfColumns:\n",
    "    dictForTest[i]=0"
   ]
  },
  {
   "cell_type": "code",
   "execution_count": 400,
   "id": "b78e19b9",
   "metadata": {},
   "outputs": [
    {
     "data": {
      "text/plain": [
       "{'multiple_types': 0,\n",
       " 'total_cuisines': 0,\n",
       " 'approx_cost(for two people)': 0,\n",
       " 'online_order_Yes': 0,\n",
       " 'book_table_Yes': 0,\n",
       " 'location_BTM': 0,\n",
       " 'location_Banashankari': 0,\n",
       " 'location_Banaswadi': 0,\n",
       " 'location_Bannerghatta Road': 0,\n",
       " 'location_Basavanagudi': 0,\n",
       " 'location_Bellandur': 0,\n",
       " 'location_Brigade Road': 0,\n",
       " 'location_Brookefield': 0,\n",
       " 'location_Church Street': 0,\n",
       " 'location_Commercial Street': 0,\n",
       " 'location_Cunningham Road': 0,\n",
       " 'location_Domlur': 0,\n",
       " 'location_Ejipura': 0,\n",
       " 'location_Electronic City': 0,\n",
       " 'location_Frazer Town': 0,\n",
       " 'location_HSR': 0,\n",
       " 'location_Indiranagar': 0,\n",
       " 'location_JP Nagar': 0,\n",
       " 'location_Jayanagar': 0,\n",
       " 'location_Jeevan Bhima Nagar': 0,\n",
       " 'location_Kalyan Nagar': 0,\n",
       " 'location_Kammanahalli': 0,\n",
       " 'location_Koramangala 1st Block': 0,\n",
       " 'location_Koramangala 3rd Block': 0,\n",
       " 'location_Koramangala 4th Block': 0,\n",
       " 'location_Koramangala 5th Block': 0,\n",
       " 'location_Koramangala 6th Block': 0,\n",
       " 'location_Koramangala 7th Block': 0,\n",
       " 'location_Koramangala 8th Block': 0,\n",
       " 'location_Lavelle Road': 0,\n",
       " 'location_MG Road': 0,\n",
       " 'location_Malleshwaram': 0,\n",
       " 'location_Marathahalli': 0,\n",
       " 'location_New BEL Road': 0,\n",
       " 'location_Old Airport Road': 0,\n",
       " 'location_Rajajinagar': 0,\n",
       " 'location_Residency Road': 0,\n",
       " 'location_Richmond Road': 0,\n",
       " 'location_Sarjapur Road': 0,\n",
       " 'location_Shanti Nagar': 0,\n",
       " 'location_Shivajinagar': 0,\n",
       " 'location_St. Marks Road': 0,\n",
       " 'location_Ulsoor': 0,\n",
       " 'location_Vasanth Nagar': 0,\n",
       " 'location_Whitefield': 0,\n",
       " 'location_Wilson Garden': 0,\n",
       " 'location_other': 0,\n",
       " 'rest_type_Bakery': 0,\n",
       " 'rest_type_Bar': 0,\n",
       " 'rest_type_Beverage Shop': 0,\n",
       " 'rest_type_Cafe': 0,\n",
       " 'rest_type_Casual Dining': 0,\n",
       " 'rest_type_Casual Dining, Bar': 0,\n",
       " 'rest_type_Delivery': 0,\n",
       " 'rest_type_Dessert Parlor': 0,\n",
       " 'rest_type_Quick Bites': 0,\n",
       " 'rest_type_Takeaway, Delivery': 0,\n",
       " 'rest_type_other': 0,\n",
       " 'listed_in(type)_Buffet': 0,\n",
       " 'listed_in(type)_Cafes': 0,\n",
       " 'listed_in(type)_Delivery': 0,\n",
       " 'listed_in(type)_Desserts': 0,\n",
       " 'listed_in(type)_Dine-out': 0,\n",
       " 'listed_in(type)_Drinks & nightlife': 0,\n",
       " 'listed_in(type)_Pubs and bars': 0}"
      ]
     },
     "execution_count": 400,
     "metadata": {},
     "output_type": "execute_result"
    }
   ],
   "source": [
    "dictForTest #lets copy this data for a new data and manipulate accordingly"
   ]
  },
  {
   "cell_type": "code",
   "execution_count": 401,
   "id": "8a13e561",
   "metadata": {},
   "outputs": [],
   "source": [
    "newDictForTest = {'multiple_types': 1,\n",
    " 'total_cuisines': 3,\n",
    " 'approx_cost(for two people)': 1500,\n",
    " 'online_order_Yes': 1,\n",
    " 'book_table_Yes': 1,\n",
    " 'location_BTM': 1,\n",
    " 'location_Banashankari': 1,\n",
    " 'location_Banaswadi': 0,\n",
    " 'location_Bannerghatta Road': 0,\n",
    " 'location_Basavanagudi': 0,\n",
    " 'location_Bellandur': 1,\n",
    " 'location_Brigade Road': 0,\n",
    " 'location_Brookefield': 0,\n",
    " 'location_Church Street': 0,\n",
    " 'location_Commercial Street': 0,\n",
    " 'location_Cunningham Road': 0,\n",
    " 'location_Domlur': 0,\n",
    " 'location_Ejipura': 0,\n",
    " 'location_Electronic City': 1,\n",
    " 'location_Frazer Town': 0,\n",
    " 'location_HSR': 0,\n",
    " 'location_Indiranagar': 0,\n",
    " 'location_JP Nagar': 0,\n",
    " 'location_Jayanagar': 0,\n",
    " 'location_Jeevan Bhima Nagar': 0,\n",
    " 'location_Kalyan Nagar': 0,\n",
    " 'location_Kammanahalli': 0,\n",
    " 'location_Koramangala 1st Block': 0,\n",
    " 'location_Koramangala 3rd Block': 0,\n",
    " 'location_Koramangala 4th Block': 0,\n",
    " 'location_Koramangala 5th Block': 0,\n",
    " 'location_Koramangala 6th Block': 0,\n",
    " 'location_Koramangala 7th Block': 0,\n",
    " 'location_Koramangala 8th Block': 0,\n",
    " 'location_Lavelle Road': 0,\n",
    " 'location_MG Road': 0,\n",
    " 'location_Malleshwaram': 0,\n",
    " 'location_Marathahalli': 0,\n",
    " 'location_New BEL Road': 0,\n",
    " 'location_Old Airport Road': 0,\n",
    " 'location_Rajajinagar': 0,\n",
    " 'location_Residency Road': 0,\n",
    " 'location_Richmond Road': 0,\n",
    " 'location_Sarjapur Road': 0,\n",
    " 'location_Shanti Nagar': 0,\n",
    " 'location_Shivajinagar': 0,\n",
    " 'location_St. Marks Road': 0,\n",
    " 'location_Ulsoor': 0,\n",
    " 'location_Vasanth Nagar': 0,\n",
    " 'location_Whitefield': 0,\n",
    " 'location_Wilson Garden': 0,\n",
    " 'location_other': 0,\n",
    " 'rest_type_Bakery': 0,\n",
    " 'rest_type_Bar': 0,\n",
    " 'rest_type_Beverage Shop': 0,\n",
    " 'rest_type_Cafe': 0,\n",
    " 'rest_type_Casual Dining': 0,\n",
    " 'rest_type_Casual Dining, Bar': 0,\n",
    " 'rest_type_Delivery': 0,\n",
    " 'rest_type_Dessert Parlor': 0,\n",
    " 'rest_type_Quick Bites': 1,\n",
    " 'rest_type_Takeaway, Delivery': 0,\n",
    " 'rest_type_other': 0,\n",
    " 'listed_in(type)_Buffet': 1,\n",
    " 'listed_in(type)_Cafes': 0,\n",
    " 'listed_in(type)_Delivery': 0,\n",
    " 'listed_in(type)_Desserts': 0,\n",
    " 'listed_in(type)_Dine-out': 0,\n",
    " 'listed_in(type)_Drinks & nightlife': 0,\n",
    " 'listed_in(type)_Pubs and bars': 0}"
   ]
  },
  {
   "cell_type": "code",
   "execution_count": 402,
   "id": "826108d5",
   "metadata": {},
   "outputs": [],
   "source": [
    "#preparing dataframe for testing \n",
    "new = pd.DataFrame(newDictForTest,index=[0])"
   ]
  },
  {
   "cell_type": "code",
   "execution_count": 403,
   "id": "39ddd444",
   "metadata": {},
   "outputs": [],
   "source": [
    "newPrediction = model.predict(new)"
   ]
  },
  {
   "cell_type": "code",
   "execution_count": 404,
   "id": "ae689000",
   "metadata": {},
   "outputs": [],
   "source": [
    "predProb = model.predict_proba(new)\n",
    "# accuracy_score(y_test,newPrediction)"
   ]
  },
  {
   "cell_type": "code",
   "execution_count": 405,
   "id": "0b31ca91",
   "metadata": {},
   "outputs": [
    {
     "data": {
      "text/plain": [
       "0.686762627621139"
      ]
     },
     "execution_count": 405,
     "metadata": {},
     "output_type": "execute_result"
    }
   ],
   "source": [
    "predProb[0][1]"
   ]
  },
  {
   "cell_type": "code",
   "execution_count": null,
   "id": "72c2a7ac",
   "metadata": {},
   "outputs": [],
   "source": []
  },
  {
   "cell_type": "markdown",
   "id": "75e2f02c",
   "metadata": {},
   "source": [
    "### Pickle to Load out the model"
   ]
  },
  {
   "cell_type": "code",
   "execution_count": 406,
   "id": "c6ebae7f",
   "metadata": {},
   "outputs": [],
   "source": [
    "import pickle\n",
    "with open('your_model.pkl', 'wb') as model_file:\n",
    "    pickle.dump(model, model_file)"
   ]
  },
  {
   "cell_type": "code",
   "execution_count": 407,
   "id": "4c597ec5",
   "metadata": {},
   "outputs": [],
   "source": [
    "# import joblib\n",
    "# joblib.dump(model, 'RandomForestZomatoModel.joblib')\n"
   ]
  }
 ],
 "metadata": {
  "kernelspec": {
   "display_name": "Python 3 (ipykernel)",
   "language": "python",
   "name": "python3"
  },
  "language_info": {
   "codemirror_mode": {
    "name": "ipython",
    "version": 3
   },
   "file_extension": ".py",
   "mimetype": "text/x-python",
   "name": "python",
   "nbconvert_exporter": "python",
   "pygments_lexer": "ipython3",
   "version": "3.11.4"
  }
 },
 "nbformat": 4,
 "nbformat_minor": 5
}
