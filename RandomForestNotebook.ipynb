{
 "cells": [
  {
   "cell_type": "code",
   "execution_count": 117,
   "id": "38eabb7c",
   "metadata": {},
   "outputs": [],
   "source": [
    "import pandas as pd\n",
    "import numpy as np\n",
    "from sklearn.model_selection import train_test_split\n",
    "from sklearn.metrics import confusion_matrix\n",
    "from sklearn.metrics import accuracy_score\n",
    "from sklearn.ensemble import RandomForestClassifier"
   ]
  },
  {
   "cell_type": "markdown",
   "id": "be3370a6",
   "metadata": {},
   "source": [
    "## Reading the File "
   ]
  },
  {
   "cell_type": "code",
   "execution_count": 12,
   "id": "0bb16b64",
   "metadata": {},
   "outputs": [],
   "source": [
    "df = pd.read_csv(r'/Users/csuftitan/Downloads/newAdbProject/combined_csv.csv')"
   ]
  },
  {
   "cell_type": "markdown",
   "id": "4510da3f",
   "metadata": {},
   "source": [
    "## Dropping Duplicates"
   ]
  },
  {
   "cell_type": "code",
   "execution_count": 13,
   "id": "8ba352dd",
   "metadata": {},
   "outputs": [
    {
     "data": {
      "text/plain": [
       "(51718, 17)"
      ]
     },
     "execution_count": 13,
     "metadata": {},
     "output_type": "execute_result"
    }
   ],
   "source": [
    "df.drop_duplicates(inplace=True)\n",
    "df.shape"
   ]
  },
  {
   "cell_type": "markdown",
   "id": "bdaa6991",
   "metadata": {},
   "source": [
    "### Preparing Approx Cost Numerical Feature"
   ]
  },
  {
   "cell_type": "code",
   "execution_count": 14,
   "id": "5f050315",
   "metadata": {},
   "outputs": [
    {
     "data": {
      "text/plain": [
       "array(['800', '300', '600', '700', '550', '500', '450', '650', '400',\n",
       "       '900', '200', '750', '150', '850', '100', '1,200', '350', '250',\n",
       "       '950', '1,000', '1,500', '1,300', '199', '80', '1,100', '160',\n",
       "       '1,600', '230', '130', '50', '190', '1,700', nan, '1,400', '180',\n",
       "       '1,350', '2,200', '2,000', '1,800', '1,900', '330', '2,500',\n",
       "       '2,100', '3,000', '2,800', '3,400', '40', '1,250', '3,500',\n",
       "       '4,000', '2,400', '2,600', '120', '1,450', '469', '70', '3,200',\n",
       "       '60', '560', '240', '360', '6,000', '1,050', '2,300', '4,100',\n",
       "       '5,000', '3,700', '1,650', '2,700', '4,500', '140'], dtype=object)"
      ]
     },
     "execution_count": 14,
     "metadata": {},
     "output_type": "execute_result"
    }
   ],
   "source": [
    "# before transformation\n",
    "df['approx_cost(for two people)'].unique()"
   ]
  },
  {
   "cell_type": "code",
   "execution_count": 15,
   "id": "fe31b2b4",
   "metadata": {},
   "outputs": [],
   "source": [
    "df['approx_cost(for two people)'] = df['approx_cost(for two people)'].astype(str).apply(lambda x: x.replace(',', ''))"
   ]
  },
  {
   "cell_type": "code",
   "execution_count": 16,
   "id": "4e9d5136",
   "metadata": {},
   "outputs": [],
   "source": [
    "df['approx_cost(for two people)'] = df['approx_cost(for two people)'].astype(float)"
   ]
  },
  {
   "cell_type": "code",
   "execution_count": 17,
   "id": "0a05ac27",
   "metadata": {},
   "outputs": [
    {
     "data": {
      "text/plain": [
       "array([ 800.,  300.,  600.,  700.,  550.,  500.,  450.,  650.,  400.,\n",
       "        900.,  200.,  750.,  150.,  850.,  100., 1200.,  350.,  250.,\n",
       "        950., 1000., 1500., 1300.,  199.,   80., 1100.,  160., 1600.,\n",
       "        230.,  130.,   50.,  190., 1700.,   nan, 1400.,  180., 1350.,\n",
       "       2200., 2000., 1800., 1900.,  330., 2500., 2100., 3000., 2800.,\n",
       "       3400.,   40., 1250., 3500., 4000., 2400., 2600.,  120., 1450.,\n",
       "        469.,   70., 3200.,   60.,  560.,  240.,  360., 6000., 1050.,\n",
       "       2300., 4100., 5000., 3700., 1650., 2700., 4500.,  140.])"
      ]
     },
     "execution_count": 17,
     "metadata": {},
     "output_type": "execute_result"
    }
   ],
   "source": [
    "df['approx_cost(for two people)'].unique()"
   ]
  },
  {
   "cell_type": "markdown",
   "id": "21fa0d1f",
   "metadata": {},
   "source": [
    "### Preparing Rate Numerical Feature"
   ]
  },
  {
   "cell_type": "code",
   "execution_count": 18,
   "id": "4cb8113b",
   "metadata": {},
   "outputs": [
    {
     "data": {
      "text/plain": [
       "array(['4.1/5', '3.8/5', '3.7/5', '3.6/5', '4.6/5', '4.0/5', '4.2/5',\n",
       "       '3.9/5', '3.1/5', '3.0/5', '3.2/5', '3.3/5', '2.8/5', '4.4/5',\n",
       "       '4.3/5', 'NEW', '2.9/5', '3.5/5', nan, '2.6/5', '3.8 /5', '3.4/5',\n",
       "       '4.5/5', '2.5/5', '2.7/5', '4.7/5', '2.4/5', '2.2/5', '2.3/5',\n",
       "       '3.4 /5', '-', '3.6 /5', '4.8/5', '3.9 /5', '4.2 /5', '4.0 /5',\n",
       "       '4.1 /5', '3.7 /5', '3.1 /5', '2.9 /5', '3.3 /5', '2.8 /5',\n",
       "       '3.5 /5', '2.7 /5', '2.5 /5', '3.2 /5', '2.6 /5', '4.5 /5',\n",
       "       '4.3 /5', '4.4 /5', '4.9/5', '2.1/5', '2.0/5', '1.8/5', '4.6 /5',\n",
       "       '4.9 /5', '3.0 /5', '4.8 /5', '2.3 /5', '4.7 /5', '2.4 /5',\n",
       "       '2.1 /5', '2.2 /5', '2.0 /5', '1.8 /5'], dtype=object)"
      ]
     },
     "execution_count": 18,
     "metadata": {},
     "output_type": "execute_result"
    }
   ],
   "source": [
    "# before tranformation\n",
    "df['rate'].unique()"
   ]
  },
  {
   "cell_type": "code",
   "execution_count": 19,
   "id": "a33f3964",
   "metadata": {},
   "outputs": [],
   "source": [
    "def split(x):\n",
    "    return x.split('/')[0]"
   ]
  },
  {
   "cell_type": "code",
   "execution_count": 20,
   "id": "26456de9",
   "metadata": {},
   "outputs": [],
   "source": [
    "df['rate']=df['rate'].astype(str).apply(split)"
   ]
  },
  {
   "cell_type": "code",
   "execution_count": 21,
   "id": "9ede3249",
   "metadata": {},
   "outputs": [],
   "source": [
    "df['rate'].replace('NEW',0,inplace=True)\n",
    "df['rate'].replace('-',0,inplace=True)"
   ]
  },
  {
   "cell_type": "code",
   "execution_count": 22,
   "id": "9d2d4d27",
   "metadata": {},
   "outputs": [],
   "source": [
    "df['rate']=df['rate'].astype(str).astype(float)"
   ]
  },
  {
   "cell_type": "code",
   "execution_count": 23,
   "id": "0f1c8490",
   "metadata": {},
   "outputs": [
    {
     "data": {
      "text/plain": [
       "array([4.1, 3.8, 3.7, 3.6, 4.6, 4. , 4.2, 3.9, 3.1, 3. , 3.2, 3.3, 2.8,\n",
       "       4.4, 4.3, 0. , 2.9, 3.5, nan, 2.6, 3.4, 4.5, 2.5, 2.7, 4.7, 2.4,\n",
       "       2.2, 2.3, 4.8, 4.9, 2.1, 2. , 1.8])"
      ]
     },
     "execution_count": 23,
     "metadata": {},
     "output_type": "execute_result"
    }
   ],
   "source": [
    "df['rate'].unique()"
   ]
  },
  {
   "cell_type": "code",
   "execution_count": 24,
   "id": "69b13683",
   "metadata": {},
   "outputs": [
    {
     "data": {
      "text/plain": [
       "7775"
      ]
     },
     "execution_count": 24,
     "metadata": {},
     "output_type": "execute_result"
    }
   ],
   "source": [
    "df['rate'].isnull().sum()"
   ]
  },
  {
   "cell_type": "code",
   "execution_count": 25,
   "id": "efc93670",
   "metadata": {},
   "outputs": [],
   "source": [
    "# few more tranformations\n",
    "def mark(x):\n",
    "    if x in ('Quick Bites', 'Casual Dining'):\n",
    "        return 'Quick Bites + Casual Dining'\n",
    "    else:\n",
    "        return 'other'"
   ]
  },
  {
   "cell_type": "code",
   "execution_count": 26,
   "id": "06e0e4bb",
   "metadata": {},
   "outputs": [],
   "source": [
    "df['Top_types']=df['rest_type'].apply(mark)"
   ]
  },
  {
   "cell_type": "markdown",
   "id": "d48f93f7",
   "metadata": {},
   "source": [
    "### Creating New Restaurants and Training data"
   ]
  },
  {
   "cell_type": "code",
   "execution_count": 27,
   "id": "74814814",
   "metadata": {},
   "outputs": [],
   "source": [
    "def assign(x):\n",
    "    if x>0:\n",
    "        return 1\n",
    "    else:\n",
    "        return 0\n",
    "df['rated']=df['rate'].apply(assign)"
   ]
  },
  {
   "cell_type": "code",
   "execution_count": 29,
   "id": "8bd8f0a2",
   "metadata": {},
   "outputs": [
    {
     "data": {
      "text/plain": [
       "array([1, 0])"
      ]
     },
     "execution_count": 29,
     "metadata": {},
     "output_type": "execute_result"
    }
   ],
   "source": [
    "df['rated'].unique() # here 0 is new rest and 1 is for training rest"
   ]
  },
  {
   "cell_type": "code",
   "execution_count": 30,
   "id": "82cf6bf7",
   "metadata": {},
   "outputs": [],
   "source": [
    "# separating new and training data\n",
    "new_restaurants = df[df['rated'] == 0]\n",
    "train_val_restaurants = df.query('rated == 1')"
   ]
  },
  {
   "cell_type": "markdown",
   "id": "fd85616a",
   "metadata": {},
   "source": [
    "### Threshold for dividing Good and Bad Rest"
   ]
  },
  {
   "cell_type": "code",
   "execution_count": 32,
   "id": "e4c43870",
   "metadata": {},
   "outputs": [
    {
     "name": "stderr",
     "output_type": "stream",
     "text": [
      "/var/folders/4z/fkk_9s_s5g113y7pvfw8mkvw0000gn/T/ipykernel_75733/1460972383.py:2: SettingWithCopyWarning: \n",
      "A value is trying to be set on a copy of a slice from a DataFrame.\n",
      "Try using .loc[row_indexer,col_indexer] = value instead\n",
      "\n",
      "See the caveats in the documentation: https://pandas.pydata.org/pandas-docs/stable/user_guide/indexing.html#returning-a-view-versus-a-copy\n",
      "  train_val_restaurants['target'] = train_val_restaurants['rate'].apply(lambda x: 1 if x >= threshold else 0)\n"
     ]
    }
   ],
   "source": [
    "threshold = 3.75 #any restaurant with rating greater than 3.75 would have target value as 1\n",
    "train_val_restaurants['target'] = train_val_restaurants['rate'].apply(lambda x: 1 if x >= threshold else 0)"
   ]
  },
  {
   "cell_type": "markdown",
   "id": "65eafafc",
   "metadata": {},
   "source": [
    "### Feature Extraction"
   ]
  },
  {
   "cell_type": "code",
   "execution_count": 33,
   "id": "90e5ee46",
   "metadata": {},
   "outputs": [
    {
     "data": {
      "text/plain": [
       "\"After defining the target and splitting the data into train+val and test sets, let's define the features to be used on training. Here we will take a look at the raw data to select valuable features and apply some steps to create another ones.\\n\\nThe initial set of selected features include:\\n\\n- online_order;\\n- book_table;\\n- location;\\n- rest_type;\\n- cuisines;\\n- listed_in(type);\\n- approx_cost\""
      ]
     },
     "execution_count": 33,
     "metadata": {},
     "output_type": "execute_result"
    }
   ],
   "source": [
    "'''After defining the target and splitting the data into train+val and test sets, let's define the features to be used on training. Here we will take a look at the raw data to select valuable features and apply some steps to create another ones.\n",
    "\n",
    "The initial set of selected features include:\n",
    "\n",
    "- online_order;\n",
    "- book_table;\n",
    "- location;\n",
    "- rest_type;\n",
    "- cuisines;\n",
    "- listed_in(type);\n",
    "- approx_cost'''"
   ]
  },
  {
   "cell_type": "code",
   "execution_count": 34,
   "id": "ccaa40ea",
   "metadata": {},
   "outputs": [
    {
     "data": {
      "text/plain": [
       "Index(['url', 'address', 'name', 'online_order', 'book_table', 'rate', 'votes',\n",
       "       'phone', 'location', 'rest_type', 'dish_liked', 'cuisines',\n",
       "       'approx_cost(for two people)', 'reviews_list', 'menu_item',\n",
       "       'listed_in(type)', 'listed_in(city)', 'Top_types', 'rated', 'target'],\n",
       "      dtype='object')"
      ]
     },
     "execution_count": 34,
     "metadata": {},
     "output_type": "execute_result"
    }
   ],
   "source": [
    "train_val_restaurants.columns"
   ]
  },
  {
   "cell_type": "code",
   "execution_count": 36,
   "id": "2b5106da",
   "metadata": {},
   "outputs": [],
   "source": [
    "def count(x):\n",
    "    return len(x.split(','))"
   ]
  },
  {
   "cell_type": "code",
   "execution_count": 37,
   "id": "9a7f56d8",
   "metadata": {},
   "outputs": [
    {
     "name": "stderr",
     "output_type": "stream",
     "text": [
      "/var/folders/4z/fkk_9s_s5g113y7pvfw8mkvw0000gn/T/ipykernel_75733/867460467.py:2: SettingWithCopyWarning: \n",
      "A value is trying to be set on a copy of a slice from a DataFrame.\n",
      "Try using .loc[row_indexer,col_indexer] = value instead\n",
      "\n",
      "See the caveats in the documentation: https://pandas.pydata.org/pandas-docs/stable/user_guide/indexing.html#returning-a-view-versus-a-copy\n",
      "  train_val_restaurants['total_cuisines']=train_val_restaurants['cuisines'].astype(str).apply(count)\n",
      "/var/folders/4z/fkk_9s_s5g113y7pvfw8mkvw0000gn/T/ipykernel_75733/867460467.py:3: SettingWithCopyWarning: \n",
      "A value is trying to be set on a copy of a slice from a DataFrame.\n",
      "Try using .loc[row_indexer,col_indexer] = value instead\n",
      "\n",
      "See the caveats in the documentation: https://pandas.pydata.org/pandas-docs/stable/user_guide/indexing.html#returning-a-view-versus-a-copy\n",
      "  train_val_restaurants['multiple_types']=train_val_restaurants['rest_type'].astype(str).apply(count)\n"
     ]
    }
   ],
   "source": [
    "#### as it have some NAN value that why very first I have to convert into str  &  then apply a function\n",
    "train_val_restaurants['total_cuisines']=train_val_restaurants['cuisines'].astype(str).apply(count)\n",
    "train_val_restaurants['multiple_types']=train_val_restaurants['rest_type'].astype(str).apply(count)"
   ]
  },
  {
   "cell_type": "code",
   "execution_count": 38,
   "id": "8d181a16",
   "metadata": {},
   "outputs": [
    {
     "data": {
      "text/plain": [
       "Index(['url', 'address', 'name', 'online_order', 'book_table', 'rate', 'votes',\n",
       "       'phone', 'location', 'rest_type', 'dish_liked', 'cuisines',\n",
       "       'approx_cost(for two people)', 'reviews_list', 'menu_item',\n",
       "       'listed_in(type)', 'listed_in(city)', 'Top_types', 'rated', 'target',\n",
       "       'total_cuisines', 'multiple_types'],\n",
       "      dtype='object')"
      ]
     },
     "execution_count": 38,
     "metadata": {},
     "output_type": "execute_result"
    }
   ],
   "source": [
    "train_val_restaurants.columns"
   ]
  },
  {
   "cell_type": "code",
   "execution_count": 39,
   "id": "6f26a785",
   "metadata": {},
   "outputs": [],
   "source": [
    "# some important features we would be intrested in\n",
    "imp_features=['online_order','book_table','location','rest_type','multiple_types','total_cuisines','listed_in(type)','approx_cost(for two people)','target']"
   ]
  },
  {
   "cell_type": "code",
   "execution_count": 40,
   "id": "e53d4ad3",
   "metadata": {},
   "outputs": [],
   "source": [
    "data = train_val_restaurants[imp_features]"
   ]
  },
  {
   "cell_type": "code",
   "execution_count": 41,
   "id": "7fa91232",
   "metadata": {},
   "outputs": [
    {
     "data": {
      "text/plain": [
       "online_order                     0\n",
       "book_table                       0\n",
       "location                         0\n",
       "rest_type                      149\n",
       "multiple_types                   0\n",
       "total_cuisines                   0\n",
       "listed_in(type)                  0\n",
       "approx_cost(for two people)    247\n",
       "target                           0\n",
       "dtype: int64"
      ]
     },
     "execution_count": 41,
     "metadata": {},
     "output_type": "execute_result"
    }
   ],
   "source": [
    "data.isnull().sum() # as Null data is less than 1-2% we can drop it "
   ]
  },
  {
   "cell_type": "code",
   "execution_count": 42,
   "id": "de3560ac",
   "metadata": {},
   "outputs": [
    {
     "name": "stderr",
     "output_type": "stream",
     "text": [
      "/var/folders/4z/fkk_9s_s5g113y7pvfw8mkvw0000gn/T/ipykernel_75733/3923625894.py:1: SettingWithCopyWarning: \n",
      "A value is trying to be set on a copy of a slice from a DataFrame\n",
      "\n",
      "See the caveats in the documentation: https://pandas.pydata.org/pandas-docs/stable/user_guide/indexing.html#returning-a-view-versus-a-copy\n",
      "  data.dropna(how='any',inplace=True)\n"
     ]
    }
   ],
   "source": [
    "data.dropna(how='any',inplace=True)"
   ]
  },
  {
   "cell_type": "markdown",
   "id": "a04dc7b0",
   "metadata": {},
   "source": [
    "### Splitting data into Categorical and Numerical based upon type of data"
   ]
  },
  {
   "cell_type": "code",
   "execution_count": 44,
   "id": "8d232a43",
   "metadata": {},
   "outputs": [],
   "source": [
    "# Splitting features by data type, any data which is object is a categorical data\n",
    "cat_features= [col for col in data.columns if data[col].dtype == 'O']\n",
    "num_features= [col for col in data.columns if data[col].dtype != 'O']"
   ]
  },
  {
   "cell_type": "code",
   "execution_count": 45,
   "id": "955f5b0f",
   "metadata": {},
   "outputs": [
    {
     "data": {
      "text/plain": [
       "['online_order', 'book_table', 'location', 'rest_type', 'listed_in(type)']"
      ]
     },
     "execution_count": 45,
     "metadata": {},
     "output_type": "execute_result"
    }
   ],
   "source": [
    "cat_features"
   ]
  },
  {
   "cell_type": "code",
   "execution_count": 47,
   "id": "60e2e646",
   "metadata": {},
   "outputs": [
    {
     "name": "stdout",
     "output_type": "stream",
     "text": [
      "online_order has total 2 unique features\n",
      "book_table has total 2 unique features\n",
      "location has total 92 unique features\n",
      "rest_type has total 87 unique features\n",
      "listed_in(type) has total 7 unique features\n"
     ]
    }
   ],
   "source": [
    "# unique features in categorical data\n",
    "for feature in cat_features:\n",
    "    print('{} has total {} unique features'.format(feature, data[feature].nunique()))"
   ]
  },
  {
   "cell_type": "code",
   "execution_count": 50,
   "id": "6ce5f94a",
   "metadata": {},
   "outputs": [
    {
     "name": "stdout",
     "output_type": "stream",
     "text": [
      "Total feature in location are 92\n",
      "BTM                      9.398624\n",
      "Koramangala 5th Block    5.565517\n",
      "HSR                      4.828940\n",
      "Indiranagar              4.361310\n",
      "JP Nagar                 4.143245\n",
      "                           ...   \n",
      "Yelahanka                0.009692\n",
      "West Bangalore           0.007269\n",
      "Rajarajeshwari Nagar     0.004846\n",
      "Nagarbhavi               0.002423\n",
      "Peenya                   0.002423\n",
      "Name: location, Length: 92, dtype: float64\n",
      "\n",
      "\n",
      "Total feature in rest_type are 87\n",
      "Quick Bites                   33.642663\n",
      "Casual Dining                 23.301512\n",
      "Cafe                           8.162919\n",
      "Dessert Parlor                 4.482458\n",
      "Delivery                       4.048750\n",
      "                                ...    \n",
      "Food Court, Beverage Shop      0.004846\n",
      "Dessert Parlor, Food Court     0.004846\n",
      "Dessert Parlor, Kiosk          0.004846\n",
      "Bakery, Beverage Shop          0.002423\n",
      "Quick Bites, Kiosk             0.002423\n",
      "Name: rest_type, Length: 87, dtype: float64\n",
      "\n",
      "\n"
     ]
    }
   ],
   "source": [
    "#location and rest_type has too manu unique features, lets try to reduce them\n",
    "cols=['location','rest_type']\n",
    "for col in cols:\n",
    "    print('Total feature in {} are {}'.format(col,data[col].nunique()))\n",
    "    print(data[col].value_counts()/(len(data))*100)\n",
    "    print('\\n')\n",
    "#we can see BTM is like 9% and Quickbites is like 33 percent, now we can define a threshold and put rest things as\n",
    "#Other category of data"
   ]
  },
  {
   "cell_type": "code",
   "execution_count": 51,
   "id": "04aa055d",
   "metadata": {},
   "outputs": [],
   "source": [
    "percent=data['location'].value_counts()/len(data)*100\n",
    "values=percent.values"
   ]
  },
  {
   "cell_type": "code",
   "execution_count": 52,
   "id": "7fd7fed4",
   "metadata": {},
   "outputs": [
    {
     "data": {
      "text/plain": [
       "46"
      ]
     },
     "execution_count": 52,
     "metadata": {},
     "output_type": "execute_result"
    }
   ],
   "source": [
    "len(values[values>0.4])"
   ]
  },
  {
   "cell_type": "code",
   "execution_count": 56,
   "id": "1b48b7d6",
   "metadata": {},
   "outputs": [
    {
     "data": {
      "text/plain": [
       "BTM                      9.398624\n",
       "Koramangala 5th Block    5.565517\n",
       "HSR                      4.828940\n",
       "Indiranagar              4.361310\n",
       "JP Nagar                 4.143245\n",
       "                           ...   \n",
       "Yelahanka                0.009692\n",
       "West Bangalore           0.007269\n",
       "Rajarajeshwari Nagar     0.004846\n",
       "Nagarbhavi               0.002423\n",
       "Peenya                   0.002423\n",
       "Name: location, Length: 92, dtype: float64"
      ]
     },
     "execution_count": 56,
     "metadata": {},
     "output_type": "execute_result"
    }
   ],
   "source": [
    "#### lets set Threshold value 0.4 \n",
    "values=data['location'].value_counts()/len(data)*100\n",
    "values"
   ]
  },
  {
   "cell_type": "code",
   "execution_count": 57,
   "id": "147f22bb",
   "metadata": {},
   "outputs": [
    {
     "data": {
      "text/plain": [
       "BTM                      9.398624\n",
       "Koramangala 5th Block    5.565517\n",
       "HSR                      4.828940\n",
       "Indiranagar              4.361310\n",
       "JP Nagar                 4.143245\n",
       "Jayanagar                3.959101\n",
       "Whitefield               3.808878\n",
       "Marathahalli             3.416360\n",
       "Bannerghatta Road        2.970537\n",
       "Koramangala 7th Block    2.556212\n",
       "Koramangala 6th Block    2.553789\n",
       "Brigade Road             2.548944\n",
       "Bellandur                2.415681\n",
       "Sarjapur Road            2.069199\n",
       "Koramangala 1st Block    2.064354\n",
       "Ulsoor                   2.057085\n",
       "Koramangala 4th Block    2.037701\n",
       "Electronic City          2.020740\n",
       "MG Road                  1.921399\n",
       "Banashankari             1.805098\n",
       "Kalyan Nagar             1.681527\n",
       "Malleshwaram             1.553111\n",
       "Residency Road           1.463462\n",
       "Richmond Road            1.463462\n",
       "Basavanagudi             1.441655\n",
       "Frazer Town              1.371390\n",
       "Church Street            1.322931\n",
       "Brookefield              1.315662\n",
       "New BEL Road             1.226013\n",
       "Kammanahalli             1.194514\n",
       "Lavelle Road             1.165439\n",
       "Cunningham Road          1.150901\n",
       "Banaswadi                1.133941\n",
       "Rajajinagar              1.116980\n",
       "Domlur                   0.983718\n",
       "Shanti Nagar             0.891646\n",
       "Old Airport Road         0.855301\n",
       "St. Marks Road           0.831072\n",
       "Shivajinagar             0.671157\n",
       "Commercial Street        0.654197\n",
       "Ejipura                  0.620275\n",
       "Jeevan Bhima Nagar       0.598469\n",
       "Vasanth Nagar            0.593623\n",
       "Koramangala 8th Block    0.513665\n",
       "Koramangala 3rd Block    0.462783\n",
       "Wilson Garden            0.453092\n",
       "Name: location, dtype: float64"
      ]
     },
     "execution_count": 57,
     "metadata": {},
     "output_type": "execute_result"
    }
   ],
   "source": [
    "threshold=0.4 #for location\n",
    "imp=values[values>threshold]\n",
    "imp"
   ]
  },
  {
   "cell_type": "code",
   "execution_count": 58,
   "id": "c262cdfa",
   "metadata": {},
   "outputs": [
    {
     "name": "stderr",
     "output_type": "stream",
     "text": [
      "/var/folders/4z/fkk_9s_s5g113y7pvfw8mkvw0000gn/T/ipykernel_75733/114142037.py:1: SettingWithCopyWarning: \n",
      "A value is trying to be set on a copy of a slice from a DataFrame.\n",
      "Try using .loc[row_indexer,col_indexer] = value instead\n",
      "\n",
      "See the caveats in the documentation: https://pandas.pydata.org/pandas-docs/stable/user_guide/indexing.html#returning-a-view-versus-a-copy\n",
      "  data['location']=np.where(data['location'].isin(imp.index),data['location'],'other')\n"
     ]
    }
   ],
   "source": [
    "data['location']=np.where(data['location'].isin(imp.index),data['location'],'other')"
   ]
  },
  {
   "cell_type": "code",
   "execution_count": 60,
   "id": "4ba99ebc",
   "metadata": {},
   "outputs": [
    {
     "data": {
      "text/plain": [
       "47"
      ]
     },
     "execution_count": 60,
     "metadata": {},
     "output_type": "execute_result"
    }
   ],
   "source": [
    "data['location'].nunique() #reduced the location features to 47"
   ]
  },
  {
   "cell_type": "code",
   "execution_count": 61,
   "id": "9cf4dcd6",
   "metadata": {},
   "outputs": [
    {
     "data": {
      "text/plain": [
       "Quick Bites                   33.642663\n",
       "Casual Dining                 23.301512\n",
       "Cafe                           8.162919\n",
       "Dessert Parlor                 4.482458\n",
       "Delivery                       4.048750\n",
       "                                ...    \n",
       "Food Court, Beverage Shop      0.004846\n",
       "Dessert Parlor, Food Court     0.004846\n",
       "Dessert Parlor, Kiosk          0.004846\n",
       "Bakery, Beverage Shop          0.002423\n",
       "Quick Bites, Kiosk             0.002423\n",
       "Name: rest_type, Length: 87, dtype: float64"
      ]
     },
     "execution_count": 61,
     "metadata": {},
     "output_type": "execute_result"
    }
   ],
   "source": [
    "# for rest_type\n",
    "values2=data['rest_type'].value_counts()/len(data)*100\n",
    "values2"
   ]
  },
  {
   "cell_type": "code",
   "execution_count": 62,
   "id": "73e69843",
   "metadata": {},
   "outputs": [
    {
     "data": {
      "text/plain": [
       "29"
      ]
     },
     "execution_count": 62,
     "metadata": {},
     "output_type": "execute_result"
    }
   ],
   "source": [
    "#setting threshold as 0.3 to check number of features reduced to\n",
    "len(values2[values2>0.3])"
   ]
  },
  {
   "cell_type": "code",
   "execution_count": 63,
   "id": "c92d1a88",
   "metadata": {},
   "outputs": [
    {
     "data": {
      "text/plain": [
       "Quick Bites           33.642663\n",
       "Casual Dining         23.301512\n",
       "Cafe                   8.162919\n",
       "Dessert Parlor         4.482458\n",
       "Delivery               4.048750\n",
       "Takeaway, Delivery     3.098953\n",
       "Casual Dining, Bar     2.645862\n",
       "Bakery                 1.705757\n",
       "Beverage Shop          1.555534\n",
       "Bar                    1.550688\n",
       "Name: rest_type, dtype: float64"
      ]
     },
     "execution_count": 63,
     "metadata": {},
     "output_type": "execute_result"
    }
   ],
   "source": [
    "#making it 1.5 to reduce more\n",
    "threshold=1.5\n",
    "imp2=values2[values2>1.5]\n",
    "imp2"
   ]
  },
  {
   "cell_type": "code",
   "execution_count": 64,
   "id": "f5aceba8",
   "metadata": {},
   "outputs": [
    {
     "name": "stderr",
     "output_type": "stream",
     "text": [
      "/var/folders/4z/fkk_9s_s5g113y7pvfw8mkvw0000gn/T/ipykernel_75733/1671127400.py:1: SettingWithCopyWarning: \n",
      "A value is trying to be set on a copy of a slice from a DataFrame.\n",
      "Try using .loc[row_indexer,col_indexer] = value instead\n",
      "\n",
      "See the caveats in the documentation: https://pandas.pydata.org/pandas-docs/stable/user_guide/indexing.html#returning-a-view-versus-a-copy\n",
      "  data['rest_type']=np.where(data['rest_type'].isin(imp2.index),data['rest_type'],'other')\n"
     ]
    }
   ],
   "source": [
    "data['rest_type']=np.where(data['rest_type'].isin(imp2.index),data['rest_type'],'other')"
   ]
  },
  {
   "cell_type": "code",
   "execution_count": 65,
   "id": "b40494a6",
   "metadata": {},
   "outputs": [
    {
     "name": "stdout",
     "output_type": "stream",
     "text": [
      "online_order has total 2 unique features\n",
      "book_table has total 2 unique features\n",
      "location has total 47 unique features\n",
      "rest_type has total 11 unique features\n",
      "listed_in(type) has total 7 unique features\n"
     ]
    }
   ],
   "source": [
    "# lets see how much features we are left with now\n",
    "for feature in cat_features:\n",
    "    print('{} has total {} unique features'.format(feature, data[feature].nunique()))"
   ]
  },
  {
   "cell_type": "code",
   "execution_count": 66,
   "id": "13ae25a2",
   "metadata": {},
   "outputs": [],
   "source": [
    "#feature encoding now\n",
    "data_cat = data[cat_features]\n",
    "for col in cat_features:\n",
    "    col_encoded = pd.get_dummies(data_cat[col],prefix=col,drop_first=False)\n",
    "    data_cat=pd.concat([data_cat,col_encoded],axis=1)\n",
    "    data_cat.drop(col, axis=1, inplace=True)"
   ]
  },
  {
   "cell_type": "code",
   "execution_count": 67,
   "id": "52745d08",
   "metadata": {},
   "outputs": [
    {
     "data": {
      "text/html": [
       "<div>\n",
       "<style scoped>\n",
       "    .dataframe tbody tr th:only-of-type {\n",
       "        vertical-align: middle;\n",
       "    }\n",
       "\n",
       "    .dataframe tbody tr th {\n",
       "        vertical-align: top;\n",
       "    }\n",
       "\n",
       "    .dataframe thead th {\n",
       "        text-align: right;\n",
       "    }\n",
       "</style>\n",
       "<table border=\"1\" class=\"dataframe\">\n",
       "  <thead>\n",
       "    <tr style=\"text-align: right;\">\n",
       "      <th></th>\n",
       "      <th>online_order_No</th>\n",
       "      <th>online_order_Yes</th>\n",
       "      <th>book_table_No</th>\n",
       "      <th>book_table_Yes</th>\n",
       "      <th>location_BTM</th>\n",
       "      <th>location_Banashankari</th>\n",
       "      <th>location_Banaswadi</th>\n",
       "      <th>location_Bannerghatta Road</th>\n",
       "      <th>location_Basavanagudi</th>\n",
       "      <th>location_Bellandur</th>\n",
       "      <th>...</th>\n",
       "      <th>rest_type_Quick Bites</th>\n",
       "      <th>rest_type_Takeaway, Delivery</th>\n",
       "      <th>rest_type_other</th>\n",
       "      <th>listed_in(type)_Buffet</th>\n",
       "      <th>listed_in(type)_Cafes</th>\n",
       "      <th>listed_in(type)_Delivery</th>\n",
       "      <th>listed_in(type)_Desserts</th>\n",
       "      <th>listed_in(type)_Dine-out</th>\n",
       "      <th>listed_in(type)_Drinks &amp; nightlife</th>\n",
       "      <th>listed_in(type)_Pubs and bars</th>\n",
       "    </tr>\n",
       "  </thead>\n",
       "  <tbody>\n",
       "    <tr>\n",
       "      <th>0</th>\n",
       "      <td>0</td>\n",
       "      <td>1</td>\n",
       "      <td>0</td>\n",
       "      <td>1</td>\n",
       "      <td>0</td>\n",
       "      <td>1</td>\n",
       "      <td>0</td>\n",
       "      <td>0</td>\n",
       "      <td>0</td>\n",
       "      <td>0</td>\n",
       "      <td>...</td>\n",
       "      <td>0</td>\n",
       "      <td>0</td>\n",
       "      <td>0</td>\n",
       "      <td>1</td>\n",
       "      <td>0</td>\n",
       "      <td>0</td>\n",
       "      <td>0</td>\n",
       "      <td>0</td>\n",
       "      <td>0</td>\n",
       "      <td>0</td>\n",
       "    </tr>\n",
       "    <tr>\n",
       "      <th>1</th>\n",
       "      <td>0</td>\n",
       "      <td>1</td>\n",
       "      <td>1</td>\n",
       "      <td>0</td>\n",
       "      <td>0</td>\n",
       "      <td>1</td>\n",
       "      <td>0</td>\n",
       "      <td>0</td>\n",
       "      <td>0</td>\n",
       "      <td>0</td>\n",
       "      <td>...</td>\n",
       "      <td>0</td>\n",
       "      <td>0</td>\n",
       "      <td>0</td>\n",
       "      <td>1</td>\n",
       "      <td>0</td>\n",
       "      <td>0</td>\n",
       "      <td>0</td>\n",
       "      <td>0</td>\n",
       "      <td>0</td>\n",
       "      <td>0</td>\n",
       "    </tr>\n",
       "    <tr>\n",
       "      <th>2</th>\n",
       "      <td>0</td>\n",
       "      <td>1</td>\n",
       "      <td>1</td>\n",
       "      <td>0</td>\n",
       "      <td>0</td>\n",
       "      <td>1</td>\n",
       "      <td>0</td>\n",
       "      <td>0</td>\n",
       "      <td>0</td>\n",
       "      <td>0</td>\n",
       "      <td>...</td>\n",
       "      <td>0</td>\n",
       "      <td>0</td>\n",
       "      <td>1</td>\n",
       "      <td>1</td>\n",
       "      <td>0</td>\n",
       "      <td>0</td>\n",
       "      <td>0</td>\n",
       "      <td>0</td>\n",
       "      <td>0</td>\n",
       "      <td>0</td>\n",
       "    </tr>\n",
       "    <tr>\n",
       "      <th>3</th>\n",
       "      <td>1</td>\n",
       "      <td>0</td>\n",
       "      <td>1</td>\n",
       "      <td>0</td>\n",
       "      <td>0</td>\n",
       "      <td>1</td>\n",
       "      <td>0</td>\n",
       "      <td>0</td>\n",
       "      <td>0</td>\n",
       "      <td>0</td>\n",
       "      <td>...</td>\n",
       "      <td>1</td>\n",
       "      <td>0</td>\n",
       "      <td>0</td>\n",
       "      <td>1</td>\n",
       "      <td>0</td>\n",
       "      <td>0</td>\n",
       "      <td>0</td>\n",
       "      <td>0</td>\n",
       "      <td>0</td>\n",
       "      <td>0</td>\n",
       "    </tr>\n",
       "    <tr>\n",
       "      <th>4</th>\n",
       "      <td>1</td>\n",
       "      <td>0</td>\n",
       "      <td>1</td>\n",
       "      <td>0</td>\n",
       "      <td>0</td>\n",
       "      <td>0</td>\n",
       "      <td>0</td>\n",
       "      <td>0</td>\n",
       "      <td>1</td>\n",
       "      <td>0</td>\n",
       "      <td>...</td>\n",
       "      <td>0</td>\n",
       "      <td>0</td>\n",
       "      <td>0</td>\n",
       "      <td>1</td>\n",
       "      <td>0</td>\n",
       "      <td>0</td>\n",
       "      <td>0</td>\n",
       "      <td>0</td>\n",
       "      <td>0</td>\n",
       "      <td>0</td>\n",
       "    </tr>\n",
       "  </tbody>\n",
       "</table>\n",
       "<p>5 rows × 69 columns</p>\n",
       "</div>"
      ],
      "text/plain": [
       "   online_order_No  online_order_Yes  book_table_No  book_table_Yes  \\\n",
       "0                0                 1              0               1   \n",
       "1                0                 1              1               0   \n",
       "2                0                 1              1               0   \n",
       "3                1                 0              1               0   \n",
       "4                1                 0              1               0   \n",
       "\n",
       "   location_BTM  location_Banashankari  location_Banaswadi  \\\n",
       "0             0                      1                   0   \n",
       "1             0                      1                   0   \n",
       "2             0                      1                   0   \n",
       "3             0                      1                   0   \n",
       "4             0                      0                   0   \n",
       "\n",
       "   location_Bannerghatta Road  location_Basavanagudi  location_Bellandur  ...  \\\n",
       "0                           0                      0                   0  ...   \n",
       "1                           0                      0                   0  ...   \n",
       "2                           0                      0                   0  ...   \n",
       "3                           0                      0                   0  ...   \n",
       "4                           0                      1                   0  ...   \n",
       "\n",
       "   rest_type_Quick Bites  rest_type_Takeaway, Delivery  rest_type_other  \\\n",
       "0                      0                             0                0   \n",
       "1                      0                             0                0   \n",
       "2                      0                             0                1   \n",
       "3                      1                             0                0   \n",
       "4                      0                             0                0   \n",
       "\n",
       "   listed_in(type)_Buffet  listed_in(type)_Cafes  listed_in(type)_Delivery  \\\n",
       "0                       1                      0                         0   \n",
       "1                       1                      0                         0   \n",
       "2                       1                      0                         0   \n",
       "3                       1                      0                         0   \n",
       "4                       1                      0                         0   \n",
       "\n",
       "   listed_in(type)_Desserts  listed_in(type)_Dine-out  \\\n",
       "0                         0                         0   \n",
       "1                         0                         0   \n",
       "2                         0                         0   \n",
       "3                         0                         0   \n",
       "4                         0                         0   \n",
       "\n",
       "   listed_in(type)_Drinks & nightlife  listed_in(type)_Pubs and bars  \n",
       "0                                   0                              0  \n",
       "1                                   0                              0  \n",
       "2                                   0                              0  \n",
       "3                                   0                              0  \n",
       "4                                   0                              0  \n",
       "\n",
       "[5 rows x 69 columns]"
      ]
     },
     "execution_count": 67,
     "metadata": {},
     "output_type": "execute_result"
    }
   ],
   "source": [
    "data_cat.head(5)"
   ]
  },
  {
   "cell_type": "code",
   "execution_count": 68,
   "id": "f21fbbd1",
   "metadata": {},
   "outputs": [],
   "source": [
    "data_cat.drop(['online_order_No','book_table_No'], axis=1, inplace =True)"
   ]
  },
  {
   "cell_type": "code",
   "execution_count": 69,
   "id": "e4179250",
   "metadata": {},
   "outputs": [
    {
     "data": {
      "text/html": [
       "<div>\n",
       "<style scoped>\n",
       "    .dataframe tbody tr th:only-of-type {\n",
       "        vertical-align: middle;\n",
       "    }\n",
       "\n",
       "    .dataframe tbody tr th {\n",
       "        vertical-align: top;\n",
       "    }\n",
       "\n",
       "    .dataframe thead th {\n",
       "        text-align: right;\n",
       "    }\n",
       "</style>\n",
       "<table border=\"1\" class=\"dataframe\">\n",
       "  <thead>\n",
       "    <tr style=\"text-align: right;\">\n",
       "      <th></th>\n",
       "      <th>online_order_Yes</th>\n",
       "      <th>book_table_Yes</th>\n",
       "      <th>location_BTM</th>\n",
       "      <th>location_Banashankari</th>\n",
       "      <th>location_Banaswadi</th>\n",
       "      <th>location_Bannerghatta Road</th>\n",
       "      <th>location_Basavanagudi</th>\n",
       "      <th>location_Bellandur</th>\n",
       "      <th>location_Brigade Road</th>\n",
       "      <th>location_Brookefield</th>\n",
       "      <th>...</th>\n",
       "      <th>rest_type_Quick Bites</th>\n",
       "      <th>rest_type_Takeaway, Delivery</th>\n",
       "      <th>rest_type_other</th>\n",
       "      <th>listed_in(type)_Buffet</th>\n",
       "      <th>listed_in(type)_Cafes</th>\n",
       "      <th>listed_in(type)_Delivery</th>\n",
       "      <th>listed_in(type)_Desserts</th>\n",
       "      <th>listed_in(type)_Dine-out</th>\n",
       "      <th>listed_in(type)_Drinks &amp; nightlife</th>\n",
       "      <th>listed_in(type)_Pubs and bars</th>\n",
       "    </tr>\n",
       "  </thead>\n",
       "  <tbody>\n",
       "    <tr>\n",
       "      <th>0</th>\n",
       "      <td>1</td>\n",
       "      <td>1</td>\n",
       "      <td>0</td>\n",
       "      <td>1</td>\n",
       "      <td>0</td>\n",
       "      <td>0</td>\n",
       "      <td>0</td>\n",
       "      <td>0</td>\n",
       "      <td>0</td>\n",
       "      <td>0</td>\n",
       "      <td>...</td>\n",
       "      <td>0</td>\n",
       "      <td>0</td>\n",
       "      <td>0</td>\n",
       "      <td>1</td>\n",
       "      <td>0</td>\n",
       "      <td>0</td>\n",
       "      <td>0</td>\n",
       "      <td>0</td>\n",
       "      <td>0</td>\n",
       "      <td>0</td>\n",
       "    </tr>\n",
       "    <tr>\n",
       "      <th>1</th>\n",
       "      <td>1</td>\n",
       "      <td>0</td>\n",
       "      <td>0</td>\n",
       "      <td>1</td>\n",
       "      <td>0</td>\n",
       "      <td>0</td>\n",
       "      <td>0</td>\n",
       "      <td>0</td>\n",
       "      <td>0</td>\n",
       "      <td>0</td>\n",
       "      <td>...</td>\n",
       "      <td>0</td>\n",
       "      <td>0</td>\n",
       "      <td>0</td>\n",
       "      <td>1</td>\n",
       "      <td>0</td>\n",
       "      <td>0</td>\n",
       "      <td>0</td>\n",
       "      <td>0</td>\n",
       "      <td>0</td>\n",
       "      <td>0</td>\n",
       "    </tr>\n",
       "    <tr>\n",
       "      <th>2</th>\n",
       "      <td>1</td>\n",
       "      <td>0</td>\n",
       "      <td>0</td>\n",
       "      <td>1</td>\n",
       "      <td>0</td>\n",
       "      <td>0</td>\n",
       "      <td>0</td>\n",
       "      <td>0</td>\n",
       "      <td>0</td>\n",
       "      <td>0</td>\n",
       "      <td>...</td>\n",
       "      <td>0</td>\n",
       "      <td>0</td>\n",
       "      <td>1</td>\n",
       "      <td>1</td>\n",
       "      <td>0</td>\n",
       "      <td>0</td>\n",
       "      <td>0</td>\n",
       "      <td>0</td>\n",
       "      <td>0</td>\n",
       "      <td>0</td>\n",
       "    </tr>\n",
       "    <tr>\n",
       "      <th>3</th>\n",
       "      <td>0</td>\n",
       "      <td>0</td>\n",
       "      <td>0</td>\n",
       "      <td>1</td>\n",
       "      <td>0</td>\n",
       "      <td>0</td>\n",
       "      <td>0</td>\n",
       "      <td>0</td>\n",
       "      <td>0</td>\n",
       "      <td>0</td>\n",
       "      <td>...</td>\n",
       "      <td>1</td>\n",
       "      <td>0</td>\n",
       "      <td>0</td>\n",
       "      <td>1</td>\n",
       "      <td>0</td>\n",
       "      <td>0</td>\n",
       "      <td>0</td>\n",
       "      <td>0</td>\n",
       "      <td>0</td>\n",
       "      <td>0</td>\n",
       "    </tr>\n",
       "    <tr>\n",
       "      <th>4</th>\n",
       "      <td>0</td>\n",
       "      <td>0</td>\n",
       "      <td>0</td>\n",
       "      <td>0</td>\n",
       "      <td>0</td>\n",
       "      <td>0</td>\n",
       "      <td>1</td>\n",
       "      <td>0</td>\n",
       "      <td>0</td>\n",
       "      <td>0</td>\n",
       "      <td>...</td>\n",
       "      <td>0</td>\n",
       "      <td>0</td>\n",
       "      <td>0</td>\n",
       "      <td>1</td>\n",
       "      <td>0</td>\n",
       "      <td>0</td>\n",
       "      <td>0</td>\n",
       "      <td>0</td>\n",
       "      <td>0</td>\n",
       "      <td>0</td>\n",
       "    </tr>\n",
       "  </tbody>\n",
       "</table>\n",
       "<p>5 rows × 67 columns</p>\n",
       "</div>"
      ],
      "text/plain": [
       "   online_order_Yes  book_table_Yes  location_BTM  location_Banashankari  \\\n",
       "0                 1               1             0                      1   \n",
       "1                 1               0             0                      1   \n",
       "2                 1               0             0                      1   \n",
       "3                 0               0             0                      1   \n",
       "4                 0               0             0                      0   \n",
       "\n",
       "   location_Banaswadi  location_Bannerghatta Road  location_Basavanagudi  \\\n",
       "0                   0                           0                      0   \n",
       "1                   0                           0                      0   \n",
       "2                   0                           0                      0   \n",
       "3                   0                           0                      0   \n",
       "4                   0                           0                      1   \n",
       "\n",
       "   location_Bellandur  location_Brigade Road  location_Brookefield  ...  \\\n",
       "0                   0                      0                     0  ...   \n",
       "1                   0                      0                     0  ...   \n",
       "2                   0                      0                     0  ...   \n",
       "3                   0                      0                     0  ...   \n",
       "4                   0                      0                     0  ...   \n",
       "\n",
       "   rest_type_Quick Bites  rest_type_Takeaway, Delivery  rest_type_other  \\\n",
       "0                      0                             0                0   \n",
       "1                      0                             0                0   \n",
       "2                      0                             0                1   \n",
       "3                      1                             0                0   \n",
       "4                      0                             0                0   \n",
       "\n",
       "   listed_in(type)_Buffet  listed_in(type)_Cafes  listed_in(type)_Delivery  \\\n",
       "0                       1                      0                         0   \n",
       "1                       1                      0                         0   \n",
       "2                       1                      0                         0   \n",
       "3                       1                      0                         0   \n",
       "4                       1                      0                         0   \n",
       "\n",
       "   listed_in(type)_Desserts  listed_in(type)_Dine-out  \\\n",
       "0                         0                         0   \n",
       "1                         0                         0   \n",
       "2                         0                         0   \n",
       "3                         0                         0   \n",
       "4                         0                         0   \n",
       "\n",
       "   listed_in(type)_Drinks & nightlife  listed_in(type)_Pubs and bars  \n",
       "0                                   0                              0  \n",
       "1                                   0                              0  \n",
       "2                                   0                              0  \n",
       "3                                   0                              0  \n",
       "4                                   0                              0  \n",
       "\n",
       "[5 rows x 67 columns]"
      ]
     },
     "execution_count": 69,
     "metadata": {},
     "output_type": "execute_result"
    }
   ],
   "source": [
    "data_cat.head()"
   ]
  },
  {
   "cell_type": "code",
   "execution_count": 70,
   "id": "d8adb2a2",
   "metadata": {},
   "outputs": [],
   "source": [
    "#contacting with final data\n",
    "data_final=pd.concat([data.loc[:,['multiple_types','total_cuisines','approx_cost(for two people)','target']],data_cat],axis=1)"
   ]
  },
  {
   "cell_type": "code",
   "execution_count": 71,
   "id": "7d1c7580",
   "metadata": {},
   "outputs": [
    {
     "data": {
      "text/plain": [
       "(41272, 71)"
      ]
     },
     "execution_count": 71,
     "metadata": {},
     "output_type": "execute_result"
    }
   ],
   "source": [
    "data_final.shape"
   ]
  },
  {
   "cell_type": "code",
   "execution_count": 72,
   "id": "94152d06",
   "metadata": {},
   "outputs": [],
   "source": [
    "# Splitting the data\n",
    "X = data_final.drop('target', axis=1)\n",
    "y = data_final['target'].values"
   ]
  },
  {
   "cell_type": "code",
   "execution_count": 73,
   "id": "538cdf14",
   "metadata": {},
   "outputs": [],
   "source": [
    "#train test split\n",
    "X_train, X_test, y_train, y_test = train_test_split(X, y, test_size=.20, random_state=42)"
   ]
  },
  {
   "cell_type": "code",
   "execution_count": 74,
   "id": "ad230fb6",
   "metadata": {},
   "outputs": [
    {
     "data": {
      "text/plain": [
       "(33017, 70)"
      ]
     },
     "execution_count": 74,
     "metadata": {},
     "output_type": "execute_result"
    }
   ],
   "source": [
    "X_train.shape"
   ]
  },
  {
   "cell_type": "markdown",
   "id": "72617e14",
   "metadata": {},
   "source": [
    "### model for decision tree"
   ]
  },
  {
   "cell_type": "code",
   "execution_count": 100,
   "id": "8cc50a2b",
   "metadata": {},
   "outputs": [],
   "source": [
    "model = RandomForestClassifier(n_estimators=100, min_samples_leaf=10, random_state=1)"
   ]
  },
  {
   "cell_type": "code",
   "execution_count": 101,
   "id": "a1da393d",
   "metadata": {},
   "outputs": [
    {
     "data": {
      "text/plain": [
       "RandomForestClassifier(min_samples_leaf=10, random_state=1)"
      ]
     },
     "execution_count": 101,
     "metadata": {},
     "output_type": "execute_result"
    }
   ],
   "source": [
    "# Fit the model to the data.\n",
    "model.fit(X_train, y_train)"
   ]
  },
  {
   "cell_type": "code",
   "execution_count": 102,
   "id": "8170124c",
   "metadata": {},
   "outputs": [
    {
     "data": {
      "text/plain": [
       "array([[3568, 1261],\n",
       "       [ 670, 2756]])"
      ]
     },
     "execution_count": 102,
     "metadata": {},
     "output_type": "execute_result"
    }
   ],
   "source": [
    "# Make predictions.\n",
    "predictions = model.predict(X_test)\n",
    "confusion_matrix(predictions, y_test)"
   ]
  },
  {
   "cell_type": "code",
   "execution_count": 103,
   "id": "a11df504",
   "metadata": {},
   "outputs": [
    {
     "data": {
      "text/plain": [
       "0.7660811629315566"
      ]
     },
     "execution_count": 103,
     "metadata": {},
     "output_type": "execute_result"
    }
   ],
   "source": [
    "accuracy_score(predictions,y_test)"
   ]
  },
  {
   "cell_type": "markdown",
   "id": "ab638a4b",
   "metadata": {},
   "source": [
    "### Creating and Testing for a Random Data"
   ]
  },
  {
   "cell_type": "code",
   "execution_count": 104,
   "id": "9b7d2e5e",
   "metadata": {},
   "outputs": [],
   "source": [
    "listOfColumns = X_train.columns.to_list()"
   ]
  },
  {
   "cell_type": "code",
   "execution_count": 105,
   "id": "159ea486",
   "metadata": {},
   "outputs": [],
   "source": [
    "# creating for dict for testing\n",
    "dictForTest = {}\n",
    "for i in listOfColumns:\n",
    "    dictForTest[i]=0"
   ]
  },
  {
   "cell_type": "code",
   "execution_count": 106,
   "id": "b78e19b9",
   "metadata": {},
   "outputs": [
    {
     "data": {
      "text/plain": [
       "{'multiple_types': 0,\n",
       " 'total_cuisines': 0,\n",
       " 'approx_cost(for two people)': 0,\n",
       " 'online_order_Yes': 0,\n",
       " 'book_table_Yes': 0,\n",
       " 'location_BTM': 0,\n",
       " 'location_Banashankari': 0,\n",
       " 'location_Banaswadi': 0,\n",
       " 'location_Bannerghatta Road': 0,\n",
       " 'location_Basavanagudi': 0,\n",
       " 'location_Bellandur': 0,\n",
       " 'location_Brigade Road': 0,\n",
       " 'location_Brookefield': 0,\n",
       " 'location_Church Street': 0,\n",
       " 'location_Commercial Street': 0,\n",
       " 'location_Cunningham Road': 0,\n",
       " 'location_Domlur': 0,\n",
       " 'location_Ejipura': 0,\n",
       " 'location_Electronic City': 0,\n",
       " 'location_Frazer Town': 0,\n",
       " 'location_HSR': 0,\n",
       " 'location_Indiranagar': 0,\n",
       " 'location_JP Nagar': 0,\n",
       " 'location_Jayanagar': 0,\n",
       " 'location_Jeevan Bhima Nagar': 0,\n",
       " 'location_Kalyan Nagar': 0,\n",
       " 'location_Kammanahalli': 0,\n",
       " 'location_Koramangala 1st Block': 0,\n",
       " 'location_Koramangala 3rd Block': 0,\n",
       " 'location_Koramangala 4th Block': 0,\n",
       " 'location_Koramangala 5th Block': 0,\n",
       " 'location_Koramangala 6th Block': 0,\n",
       " 'location_Koramangala 7th Block': 0,\n",
       " 'location_Koramangala 8th Block': 0,\n",
       " 'location_Lavelle Road': 0,\n",
       " 'location_MG Road': 0,\n",
       " 'location_Malleshwaram': 0,\n",
       " 'location_Marathahalli': 0,\n",
       " 'location_New BEL Road': 0,\n",
       " 'location_Old Airport Road': 0,\n",
       " 'location_Rajajinagar': 0,\n",
       " 'location_Residency Road': 0,\n",
       " 'location_Richmond Road': 0,\n",
       " 'location_Sarjapur Road': 0,\n",
       " 'location_Shanti Nagar': 0,\n",
       " 'location_Shivajinagar': 0,\n",
       " 'location_St. Marks Road': 0,\n",
       " 'location_Ulsoor': 0,\n",
       " 'location_Vasanth Nagar': 0,\n",
       " 'location_Whitefield': 0,\n",
       " 'location_Wilson Garden': 0,\n",
       " 'location_other': 0,\n",
       " 'rest_type_Bakery': 0,\n",
       " 'rest_type_Bar': 0,\n",
       " 'rest_type_Beverage Shop': 0,\n",
       " 'rest_type_Cafe': 0,\n",
       " 'rest_type_Casual Dining': 0,\n",
       " 'rest_type_Casual Dining, Bar': 0,\n",
       " 'rest_type_Delivery': 0,\n",
       " 'rest_type_Dessert Parlor': 0,\n",
       " 'rest_type_Quick Bites': 0,\n",
       " 'rest_type_Takeaway, Delivery': 0,\n",
       " 'rest_type_other': 0,\n",
       " 'listed_in(type)_Buffet': 0,\n",
       " 'listed_in(type)_Cafes': 0,\n",
       " 'listed_in(type)_Delivery': 0,\n",
       " 'listed_in(type)_Desserts': 0,\n",
       " 'listed_in(type)_Dine-out': 0,\n",
       " 'listed_in(type)_Drinks & nightlife': 0,\n",
       " 'listed_in(type)_Pubs and bars': 0}"
      ]
     },
     "execution_count": 106,
     "metadata": {},
     "output_type": "execute_result"
    }
   ],
   "source": [
    "dictForTest #lets copy this data for a new data and manipulate accordingly"
   ]
  },
  {
   "cell_type": "code",
   "execution_count": 112,
   "id": "8a13e561",
   "metadata": {},
   "outputs": [],
   "source": [
    "newDictForTest = {'multiple_types': 1,\n",
    " 'total_cuisines': 3,\n",
    " 'approx_cost(for two people)': 1500,\n",
    " 'online_order_Yes': 1,\n",
    " 'book_table_Yes': 1,\n",
    " 'location_BTM': 1,\n",
    " 'location_Banashankari': 0,\n",
    " 'location_Banaswadi': 0,\n",
    " 'location_Bannerghatta Road': 0,\n",
    " 'location_Basavanagudi': 0,\n",
    " 'location_Bellandur': 0,\n",
    " 'location_Brigade Road': 0,\n",
    " 'location_Brookefield': 0,\n",
    " 'location_Church Street': 0,\n",
    " 'location_Commercial Street': 0,\n",
    " 'location_Cunningham Road': 0,\n",
    " 'location_Domlur': 0,\n",
    " 'location_Ejipura': 0,\n",
    " 'location_Electronic City': 0,\n",
    " 'location_Frazer Town': 0,\n",
    " 'location_HSR': 0,\n",
    " 'location_Indiranagar': 0,\n",
    " 'location_JP Nagar': 0,\n",
    " 'location_Jayanagar': 0,\n",
    " 'location_Jeevan Bhima Nagar': 0,\n",
    " 'location_Kalyan Nagar': 0,\n",
    " 'location_Kammanahalli': 0,\n",
    " 'location_Koramangala 1st Block': 0,\n",
    " 'location_Koramangala 3rd Block': 0,\n",
    " 'location_Koramangala 4th Block': 0,\n",
    " 'location_Koramangala 5th Block': 0,\n",
    " 'location_Koramangala 6th Block': 0,\n",
    " 'location_Koramangala 7th Block': 0,\n",
    " 'location_Koramangala 8th Block': 0,\n",
    " 'location_Lavelle Road': 0,\n",
    " 'location_MG Road': 0,\n",
    " 'location_Malleshwaram': 0,\n",
    " 'location_Marathahalli': 0,\n",
    " 'location_New BEL Road': 0,\n",
    " 'location_Old Airport Road': 0,\n",
    " 'location_Rajajinagar': 0,\n",
    " 'location_Residency Road': 0,\n",
    " 'location_Richmond Road': 0,\n",
    " 'location_Sarjapur Road': 0,\n",
    " 'location_Shanti Nagar': 0,\n",
    " 'location_Shivajinagar': 0,\n",
    " 'location_St. Marks Road': 0,\n",
    " 'location_Ulsoor': 0,\n",
    " 'location_Vasanth Nagar': 0,\n",
    " 'location_Whitefield': 0,\n",
    " 'location_Wilson Garden': 0,\n",
    " 'location_other': 0,\n",
    " 'rest_type_Bakery': 0,\n",
    " 'rest_type_Bar': 0,\n",
    " 'rest_type_Beverage Shop': 0,\n",
    " 'rest_type_Cafe': 0,\n",
    " 'rest_type_Casual Dining': 0,\n",
    " 'rest_type_Casual Dining, Bar': 0,\n",
    " 'rest_type_Delivery': 0,\n",
    " 'rest_type_Dessert Parlor': 0,\n",
    " 'rest_type_Quick Bites': 1,\n",
    " 'rest_type_Takeaway, Delivery': 0,\n",
    " 'rest_type_other': 0,\n",
    " 'listed_in(type)_Buffet': 1,\n",
    " 'listed_in(type)_Cafes': 0,\n",
    " 'listed_in(type)_Delivery': 0,\n",
    " 'listed_in(type)_Desserts': 0,\n",
    " 'listed_in(type)_Dine-out': 0,\n",
    " 'listed_in(type)_Drinks & nightlife': 0,\n",
    " 'listed_in(type)_Pubs and bars': 0}"
   ]
  },
  {
   "cell_type": "code",
   "execution_count": 113,
   "id": "826108d5",
   "metadata": {},
   "outputs": [],
   "source": [
    "#preparing dataframe for testing \n",
    "new = pd.DataFrame(newDictForTest,index=[0])"
   ]
  },
  {
   "cell_type": "code",
   "execution_count": 114,
   "id": "39ddd444",
   "metadata": {},
   "outputs": [],
   "source": [
    "newPrediction = model.predict(new)"
   ]
  },
  {
   "cell_type": "code",
   "execution_count": 115,
   "id": "ae689000",
   "metadata": {},
   "outputs": [],
   "source": [
    "predProb = model.predict_proba(new)"
   ]
  },
  {
   "cell_type": "code",
   "execution_count": 116,
   "id": "0b31ca91",
   "metadata": {},
   "outputs": [
    {
     "data": {
      "text/plain": [
       "0.8019123833757231"
      ]
     },
     "execution_count": 116,
     "metadata": {},
     "output_type": "execute_result"
    }
   ],
   "source": [
    "predProb[0][1]"
   ]
  },
  {
   "cell_type": "markdown",
   "id": "75e2f02c",
   "metadata": {},
   "source": [
    "### Pickle to Load out the model"
   ]
  },
  {
   "cell_type": "code",
   "execution_count": 118,
   "id": "c6ebae7f",
   "metadata": {},
   "outputs": [],
   "source": [
    "import pickle\n",
    "pickle.dump(model, open('RandomForestZomatoModel.pkl', 'wb'))"
   ]
  },
  {
   "cell_type": "code",
   "execution_count": null,
   "id": "27872f93",
   "metadata": {},
   "outputs": [],
   "source": []
  }
 ],
 "metadata": {
  "kernelspec": {
   "display_name": "Python 3 (ipykernel)",
   "language": "python",
   "name": "python3"
  },
  "language_info": {
   "codemirror_mode": {
    "name": "ipython",
    "version": 3
   },
   "file_extension": ".py",
   "mimetype": "text/x-python",
   "name": "python",
   "nbconvert_exporter": "python",
   "pygments_lexer": "ipython3",
   "version": "3.11.4"
  }
 },
 "nbformat": 4,
 "nbformat_minor": 5
}
